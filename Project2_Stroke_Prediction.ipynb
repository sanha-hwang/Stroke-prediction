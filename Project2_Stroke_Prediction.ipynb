{
  "nbformat": 4,
  "nbformat_minor": 0,
  "metadata": {
    "colab": {
      "name": "Project2_Stroke Prediction",
      "provenance": [],
      "collapsed_sections": [],
      "include_colab_link": true
    },
    "kernelspec": {
      "display_name": "Python 3",
      "name": "python3"
    }
  },
  "cells": [
    {
      "cell_type": "markdown",
      "metadata": {
        "id": "view-in-github",
        "colab_type": "text"
      },
      "source": [
        "<a href=\"https://colab.research.google.com/github/sanha-hwang/Stroke-prediction/blob/main/Project2_Stroke_Prediction.ipynb\" target=\"_parent\"><img src=\"https://colab.research.google.com/assets/colab-badge.svg\" alt=\"Open In Colab\"/></a>"
      ]
    },
    {
      "cell_type": "markdown",
      "metadata": {
        "id": "5fCEDCU_qrC0"
      },
      "source": [
        "안녕하세요 **뽀글머리 산하**입니다. \n",
        "\n",
        "이번 프로젝트는 지난 section2에서 배운 내용을 토대로 머신러닝을 이용해 데이터를 분석하고 시각화하는 과정을 다뤄보겠습니다. \n",
        "\n",
        "먼저, 데이터 셋은 kaggle 사이트에서 다운받은 Stroke Prediction Dataset입니다.\n",
        "아무래도 헬스케어와 의료서비스에 관심이 많은 저에게는 프로젝트하나하나 할 때 의료지식까지 함께 공부하면 좋을 것 같아서 준비해보았습니다.\n",
        "\n",
        "이번 데이터를 통해 제가 할 일은 약 5000명정도 환자들의 건강데이터를 가지고 뇌졸증에 걸릴 가능성을 예측하는 것입니다. 특히 가장 영향을 주는 특성이 무엇인지 뽑아 보겠습니다.\n",
        "\n",
        "\n",
        "*   <strong>최종 목표: 어떤 특성이 뇌졸증 발현에 어느정도로 영향을 주는가</strong>\n",
        "\n"
      ]
    },
    {
      "cell_type": "markdown",
      "metadata": {
        "id": "GJBs_flRovLc"
      },
      "source": [
        "## <strong>1. 데이터이해하기</strong>\n",
        "\n",
        "먼저 데이터분석에 앞서 제가 가진 데이터에 대해서 이해해보겠습니다.\n",
        "\n",
        "**뇌졸증(stroke)**이란 뇌의 혈액의 공급이 갑자기 차단되거나 뇌의 혈관이 터질 때 뇌세포르 감싸는 공간에 피가 누설되면서 발생하는 뇌혈관질환이다. 뇌는 우리 몸 전체에서 무게로는 체중의 2%밖에 되지만 심박출량(심장이 뿜어내는 혈류량)의 15%를 소비하고, 산소 소모량 또한 20%나 된다. 그만큼 뇌에게는 혈액과 산소가 공급되지 않으면 크나큰 재앙을 불러온다. \n",
        "\n",
        "세계 보건기구(WHO)에 따르면 뇌졸증은 전 세계적으로 두 번째 주요 사망원인으로 전체 사망의 11%를 차지합니다.\n",
        "\n",
        "또한 치료에 많은 비용과 시간이 들어가며, 치료를 하더라도 뇌손상에 의한 여러가지 장애를 남기기 쉬운 질환이고, 치료 후에도 상당수가 재발한다."
      ]
    },
    {
      "cell_type": "markdown",
      "metadata": {
        "id": "bNYBWVJpXgUv"
      },
      "source": [
        "데이터 셋의 구성을 살펴보면\n",
        "\n",
        "id: 고유식별자\n",
        "\n",
        "gender: 성별\n",
        "\n",
        "age: 환자의 나이\n",
        "\n",
        "hypertension: 고혈압의 여부, 0-> no, 1-> yes\n",
        "\n",
        "heart_disease: 심장병의 여부, 0->no, 1->yes\n",
        "\n",
        "ever_married: 결혼 경험여부, True/ False\n",
        "\n",
        "work_type: 직업 타입 (private가 많음)\n",
        "\n",
        "Residence_type: 주거타입, Urban, Rural\n",
        "\n",
        "avg_glucose_level: 포도당 수치\n",
        "\n",
        "bmi: bmi수치\n",
        "\n",
        "smoking_status: 흡연여부 (과거이력까지)"
      ]
    },
    {
      "cell_type": "markdown",
      "metadata": {
        "id": "D9Va84O1aZ1s"
      },
      "source": [
        "특성으로 의학적인 수치(고혈압 여부, 심장병 여부, 포도당 수치, bmi수치)도 확인할 수 있지만, 환자를 둘러싸고 있는 환경(성별, 나이, 결혼경험, 직업종류,주거타입, 흡연여부)을 다룬 특성도 다수 있는 것을 볼 수가 있다.\n",
        "\n",
        "따라서 세부적인 의학적인 수치로 뇌졸증을 판단하기 보다는 환자가 처해있는 환경에 따라 뇌졸증에 걸릴 위험이 높아질 수 있다 정도를 판단해 볼 수 있을 것같다."
      ]
    },
    {
      "cell_type": "markdown",
      "metadata": {
        "id": "pKnkdXH3blRJ"
      },
      "source": [
        "#<strong>2.데이터 전처리하기</strong>\n"
      ]
    },
    {
      "cell_type": "markdown",
      "metadata": {
        "id": "WW6JRzlwbtlc"
      },
      "source": [
        "###2.1 데이터 불러오기"
      ]
    },
    {
      "cell_type": "code",
      "metadata": {
        "id": "Pk439sACcC9I",
        "colab": {
          "base_uri": "https://localhost:8080/"
        },
        "outputId": "07ecb0a0-1ce8-432f-d372-e8e1147b4ec8"
      },
      "source": [
        "from google.colab import drive\n",
        "drive.mount('/content/drive')"
      ],
      "execution_count": 1,
      "outputs": [
        {
          "output_type": "stream",
          "text": [
            "Mounted at /content/drive\n"
          ],
          "name": "stdout"
        }
      ]
    },
    {
      "cell_type": "code",
      "metadata": {
        "id": "Tiqgv7s0hAoy"
      },
      "source": [
        "#항상 먼저할 업데이트\n",
        "!pip install -U pandas-profiling\n",
        "!pip install --upgrade category_encoders\n",
        "!pip install -U scikit-learn\n",
        "!pip install -U imbalanced-learn\n",
        "!pip install -U pdpbox\n",
        "!pip install -U shap\n",
        "!pip install -U eli5"
      ],
      "execution_count": null,
      "outputs": []
    },
    {
      "cell_type": "code",
      "metadata": {
        "id": "jDsqv4_QThmA"
      },
      "source": [
        "from sklearn.model_selection import train_test_split\n",
        "import matplotlib.pyplot as plt\n",
        "import seaborn as sns\n",
        "\n",
        "#processing\n",
        "from category_encoders import OneHotEncoder\n",
        "from category_encoders import OrdinalEncoder\n",
        "from imblearn.over_sampling import SMOTE\n",
        "from sklearn.preprocessing import MinMaxScaler\n",
        "\n",
        "#모델\n",
        "from sklearn.linear_model import LogisticRegression\n",
        "from sklearn.tree import DecisionTreeClassifier\n",
        "from sklearn.ensemble import RandomForestClassifier\n",
        "from xgboost import XGBClassifier\n",
        "from lightgbm import LGBMClassifier\n",
        "\n",
        "#모델제작\n",
        "from sklearn.model_selection import RandomizedSearchCV\n",
        "from imblearn.pipeline import Pipeline\n",
        "\n",
        "#모델평가\n",
        "from sklearn.metrics import plot_confusion_matrix\n",
        "from sklearn.metrics import classification_report\n",
        "from sklearn.metrics import f1_score, accuracy_score, precision_score,recall_score, roc_auc_score\n",
        "#평가 지표\n",
        "def score(y_val,pred):\n",
        "  accuracy = accuracy_score(y_val,pred)\n",
        "  precision = precision_score(y_val,pred)\n",
        "  recall = recall_score(y_val,pred)\n",
        "  f1 = f1_score(y_val,pred)\n",
        "  roc_score = roc_auc_score(y_val,pred,average='macro')\n",
        "  print('정확도 : {0:.2f}, 정밀도 : {1:.2f}, 재현율 : {2:.2f}'.format(accuracy,precision,recall))\n",
        "  print('f1-score : {0:.2f}, auc : {1:.2f}'.format(f1,roc_score,recall))\n",
        "\n",
        "#특성 중요도\n",
        "import eli5\n",
        "from eli5.sklearn import PermutationImportance"
      ],
      "execution_count": 8,
      "outputs": []
    },
    {
      "cell_type": "code",
      "metadata": {
        "colab": {
          "base_uri": "https://localhost:8080/",
          "height": 202
        },
        "id": "gJr_9dXGpJ05",
        "outputId": "7e33743f-7bd9-43fd-a7a0-a7569f110bb0"
      },
      "source": [
        "import pandas as pd\n",
        "import pandas_profiling\n",
        "stroke_data=pd.read_csv('/content/drive/MyDrive/healthcare-dataset-stroke-data.csv')\n",
        "stroke_data.head()"
      ],
      "execution_count": 4,
      "outputs": [
        {
          "output_type": "execute_result",
          "data": {
            "text/html": [
              "<div>\n",
              "<style scoped>\n",
              "    .dataframe tbody tr th:only-of-type {\n",
              "        vertical-align: middle;\n",
              "    }\n",
              "\n",
              "    .dataframe tbody tr th {\n",
              "        vertical-align: top;\n",
              "    }\n",
              "\n",
              "    .dataframe thead th {\n",
              "        text-align: right;\n",
              "    }\n",
              "</style>\n",
              "<table border=\"1\" class=\"dataframe\">\n",
              "  <thead>\n",
              "    <tr style=\"text-align: right;\">\n",
              "      <th></th>\n",
              "      <th>id</th>\n",
              "      <th>gender</th>\n",
              "      <th>age</th>\n",
              "      <th>hypertension</th>\n",
              "      <th>heart_disease</th>\n",
              "      <th>ever_married</th>\n",
              "      <th>work_type</th>\n",
              "      <th>Residence_type</th>\n",
              "      <th>avg_glucose_level</th>\n",
              "      <th>bmi</th>\n",
              "      <th>smoking_status</th>\n",
              "      <th>stroke</th>\n",
              "    </tr>\n",
              "  </thead>\n",
              "  <tbody>\n",
              "    <tr>\n",
              "      <th>0</th>\n",
              "      <td>9046</td>\n",
              "      <td>Male</td>\n",
              "      <td>67.0</td>\n",
              "      <td>0</td>\n",
              "      <td>1</td>\n",
              "      <td>Yes</td>\n",
              "      <td>Private</td>\n",
              "      <td>Urban</td>\n",
              "      <td>228.69</td>\n",
              "      <td>36.6</td>\n",
              "      <td>formerly smoked</td>\n",
              "      <td>1</td>\n",
              "    </tr>\n",
              "    <tr>\n",
              "      <th>1</th>\n",
              "      <td>51676</td>\n",
              "      <td>Female</td>\n",
              "      <td>61.0</td>\n",
              "      <td>0</td>\n",
              "      <td>0</td>\n",
              "      <td>Yes</td>\n",
              "      <td>Self-employed</td>\n",
              "      <td>Rural</td>\n",
              "      <td>202.21</td>\n",
              "      <td>NaN</td>\n",
              "      <td>never smoked</td>\n",
              "      <td>1</td>\n",
              "    </tr>\n",
              "    <tr>\n",
              "      <th>2</th>\n",
              "      <td>31112</td>\n",
              "      <td>Male</td>\n",
              "      <td>80.0</td>\n",
              "      <td>0</td>\n",
              "      <td>1</td>\n",
              "      <td>Yes</td>\n",
              "      <td>Private</td>\n",
              "      <td>Rural</td>\n",
              "      <td>105.92</td>\n",
              "      <td>32.5</td>\n",
              "      <td>never smoked</td>\n",
              "      <td>1</td>\n",
              "    </tr>\n",
              "    <tr>\n",
              "      <th>3</th>\n",
              "      <td>60182</td>\n",
              "      <td>Female</td>\n",
              "      <td>49.0</td>\n",
              "      <td>0</td>\n",
              "      <td>0</td>\n",
              "      <td>Yes</td>\n",
              "      <td>Private</td>\n",
              "      <td>Urban</td>\n",
              "      <td>171.23</td>\n",
              "      <td>34.4</td>\n",
              "      <td>smokes</td>\n",
              "      <td>1</td>\n",
              "    </tr>\n",
              "    <tr>\n",
              "      <th>4</th>\n",
              "      <td>1665</td>\n",
              "      <td>Female</td>\n",
              "      <td>79.0</td>\n",
              "      <td>1</td>\n",
              "      <td>0</td>\n",
              "      <td>Yes</td>\n",
              "      <td>Self-employed</td>\n",
              "      <td>Rural</td>\n",
              "      <td>174.12</td>\n",
              "      <td>24.0</td>\n",
              "      <td>never smoked</td>\n",
              "      <td>1</td>\n",
              "    </tr>\n",
              "  </tbody>\n",
              "</table>\n",
              "</div>"
            ],
            "text/plain": [
              "      id  gender   age  ...   bmi   smoking_status stroke\n",
              "0   9046    Male  67.0  ...  36.6  formerly smoked      1\n",
              "1  51676  Female  61.0  ...   NaN     never smoked      1\n",
              "2  31112    Male  80.0  ...  32.5     never smoked      1\n",
              "3  60182  Female  49.0  ...  34.4           smokes      1\n",
              "4   1665  Female  79.0  ...  24.0     never smoked      1\n",
              "\n",
              "[5 rows x 12 columns]"
            ]
          },
          "metadata": {
            "tags": []
          },
          "execution_count": 4
        }
      ]
    },
    {
      "cell_type": "markdown",
      "metadata": {
        "id": "2fhs6GZ4qFMx"
      },
      "source": [
        "구글 드라이브에 업로드한 자료 불러오기 성공"
      ]
    },
    {
      "cell_type": "markdown",
      "metadata": {
        "id": "jjlw2MZBcsT5"
      },
      "source": [
        "###2.2 데이터 결측치 여부, 중복 여부 확인하기"
      ]
    },
    {
      "cell_type": "code",
      "metadata": {
        "id": "-gE-Ez1qtyIA"
      },
      "source": [
        "pr=stroke_data.profile_report()\n",
        "pr"
      ],
      "execution_count": null,
      "outputs": []
    },
    {
      "cell_type": "code",
      "metadata": {
        "id": "zQ25cGKDiwIJ",
        "colab": {
          "base_uri": "https://localhost:8080/"
        },
        "outputId": "0d538ee6-a4f0-4c77-f7b8-37a3dd649c50"
      },
      "source": [
        "stroke_data.isnull().sum() # bmi수치 결측치 존재"
      ],
      "execution_count": null,
      "outputs": [
        {
          "output_type": "execute_result",
          "data": {
            "text/plain": [
              "id                     0\n",
              "gender                 0\n",
              "age                    0\n",
              "hypertension           0\n",
              "heart_disease          0\n",
              "ever_married           0\n",
              "work_type              0\n",
              "Residence_type         0\n",
              "avg_glucose_level      0\n",
              "bmi                  201\n",
              "smoking_status         0\n",
              "stroke                 0\n",
              "dtype: int64"
            ]
          },
          "metadata": {
            "tags": []
          },
          "execution_count": 76
        }
      ]
    },
    {
      "cell_type": "code",
      "metadata": {
        "id": "C9kUl5Kni2yI",
        "colab": {
          "base_uri": "https://localhost:8080/"
        },
        "outputId": "43541017-5ada-4b5f-faf6-22ae8d9ceb76"
      },
      "source": [
        "stroke_data.duplicated().sum() # 중복 없고"
      ],
      "execution_count": null,
      "outputs": [
        {
          "output_type": "execute_result",
          "data": {
            "text/plain": [
              "0"
            ]
          },
          "metadata": {
            "tags": []
          },
          "execution_count": 77
        }
      ]
    },
    {
      "cell_type": "markdown",
      "metadata": {
        "id": "6s-nS4Eem2GW"
      },
      "source": [
        "###2.3 이상치 여부 및 각 특성이 갖는 도메인값 확인"
      ]
    },
    {
      "cell_type": "code",
      "metadata": {
        "id": "Ss5lnlr4m_y0",
        "colab": {
          "base_uri": "https://localhost:8080/"
        },
        "outputId": "eee95e1c-0953-451b-c0b1-d358ef4a9653"
      },
      "source": [
        "print(stroke_data['gender'].unique())\n",
        "stroke_data['gender'].value_counts()"
      ],
      "execution_count": null,
      "outputs": [
        {
          "output_type": "stream",
          "text": [
            "['Male' 'Female' 'Other']\n"
          ],
          "name": "stdout"
        },
        {
          "output_type": "execute_result",
          "data": {
            "text/plain": [
              "Female    2994\n",
              "Male      2115\n",
              "Other        1\n",
              "Name: gender, dtype: int64"
            ]
          },
          "metadata": {
            "tags": []
          },
          "execution_count": 78
        }
      ]
    },
    {
      "cell_type": "code",
      "metadata": {
        "id": "vslREq9Dpi_5",
        "colab": {
          "base_uri": "https://localhost:8080/",
          "height": 407
        },
        "outputId": "a196941c-ecc9-43db-bd90-5fc214f53a55"
      },
      "source": [
        "print(max(stroke_data['age']),min(stroke_data['age'])) \n",
        "sns.displot(stroke_data['age']) "
      ],
      "execution_count": null,
      "outputs": [
        {
          "output_type": "stream",
          "text": [
            "82.0 0.08\n"
          ],
          "name": "stdout"
        },
        {
          "output_type": "execute_result",
          "data": {
            "text/plain": [
              "<seaborn.axisgrid.FacetGrid at 0x7f500f372990>"
            ]
          },
          "metadata": {
            "tags": []
          },
          "execution_count": 79
        },
        {
          "output_type": "display_data",
          "data": {
            "image/png": "[encoded data removed]",
            "text/plain": [
              "<Figure size 360x360 with 1 Axes>"
            ]
          },
          "metadata": {
            "tags": [],
            "needs_background": "light"
          }
        }
      ]
    },
    {
      "cell_type": "code",
      "metadata": {
        "id": "xTrZbWo0gOKm",
        "colab": {
          "base_uri": "https://localhost:8080/",
          "height": 159
        },
        "outputId": "77f98bc4-1aa4-409c-b2c4-dd04bdc7fa1a"
      },
      "source": [
        "print('고혈압 여부:',stroke_data['hypertension'].unique())\n",
        "pd.crosstab(stroke_data['hypertension'],stroke_data['stroke'])"
      ],
      "execution_count": null,
      "outputs": [
        {
          "output_type": "stream",
          "text": [
            "고혈압 여부: [0 1]\n"
          ],
          "name": "stdout"
        },
        {
          "output_type": "execute_result",
          "data": {
            "text/html": [
              "<div>\n",
              "<style scoped>\n",
              "    .dataframe tbody tr th:only-of-type {\n",
              "        vertical-align: middle;\n",
              "    }\n",
              "\n",
              "    .dataframe tbody tr th {\n",
              "        vertical-align: top;\n",
              "    }\n",
              "\n",
              "    .dataframe thead th {\n",
              "        text-align: right;\n",
              "    }\n",
              "</style>\n",
              "<table border=\"1\" class=\"dataframe\">\n",
              "  <thead>\n",
              "    <tr style=\"text-align: right;\">\n",
              "      <th>stroke</th>\n",
              "      <th>0</th>\n",
              "      <th>1</th>\n",
              "    </tr>\n",
              "    <tr>\n",
              "      <th>hypertension</th>\n",
              "      <th></th>\n",
              "      <th></th>\n",
              "    </tr>\n",
              "  </thead>\n",
              "  <tbody>\n",
              "    <tr>\n",
              "      <th>0</th>\n",
              "      <td>4429</td>\n",
              "      <td>183</td>\n",
              "    </tr>\n",
              "    <tr>\n",
              "      <th>1</th>\n",
              "      <td>432</td>\n",
              "      <td>66</td>\n",
              "    </tr>\n",
              "  </tbody>\n",
              "</table>\n",
              "</div>"
            ],
            "text/plain": [
              "stroke           0    1\n",
              "hypertension           \n",
              "0             4429  183\n",
              "1              432   66"
            ]
          },
          "metadata": {
            "tags": []
          },
          "execution_count": 80
        }
      ]
    },
    {
      "cell_type": "code",
      "metadata": {
        "id": "c6gThMGjhEXr",
        "colab": {
          "base_uri": "https://localhost:8080/",
          "height": 159
        },
        "outputId": "989b47af-f7bd-48a3-cc0d-7f59963410bc"
      },
      "source": [
        "print('심장병 여부:',stroke_data['heart_disease'].unique())\n",
        "pd.crosstab(stroke_data['heart_disease'],stroke_data['stroke'])"
      ],
      "execution_count": null,
      "outputs": [
        {
          "output_type": "stream",
          "text": [
            "심장병 여부: [1 0]\n"
          ],
          "name": "stdout"
        },
        {
          "output_type": "execute_result",
          "data": {
            "text/html": [
              "<div>\n",
              "<style scoped>\n",
              "    .dataframe tbody tr th:only-of-type {\n",
              "        vertical-align: middle;\n",
              "    }\n",
              "\n",
              "    .dataframe tbody tr th {\n",
              "        vertical-align: top;\n",
              "    }\n",
              "\n",
              "    .dataframe thead th {\n",
              "        text-align: right;\n",
              "    }\n",
              "</style>\n",
              "<table border=\"1\" class=\"dataframe\">\n",
              "  <thead>\n",
              "    <tr style=\"text-align: right;\">\n",
              "      <th>stroke</th>\n",
              "      <th>0</th>\n",
              "      <th>1</th>\n",
              "    </tr>\n",
              "    <tr>\n",
              "      <th>heart_disease</th>\n",
              "      <th></th>\n",
              "      <th></th>\n",
              "    </tr>\n",
              "  </thead>\n",
              "  <tbody>\n",
              "    <tr>\n",
              "      <th>0</th>\n",
              "      <td>4632</td>\n",
              "      <td>202</td>\n",
              "    </tr>\n",
              "    <tr>\n",
              "      <th>1</th>\n",
              "      <td>229</td>\n",
              "      <td>47</td>\n",
              "    </tr>\n",
              "  </tbody>\n",
              "</table>\n",
              "</div>"
            ],
            "text/plain": [
              "stroke            0    1\n",
              "heart_disease           \n",
              "0              4632  202\n",
              "1               229   47"
            ]
          },
          "metadata": {
            "tags": []
          },
          "execution_count": 81
        }
      ]
    },
    {
      "cell_type": "code",
      "metadata": {
        "id": "Q7G7j9QThP7z",
        "colab": {
          "base_uri": "https://localhost:8080/",
          "height": 159
        },
        "outputId": "cad22863-adcd-4050-c833-44d384cf340f"
      },
      "source": [
        "print('결혼경험:', stroke_data['ever_married'].unique())\n",
        "pd.crosstab(stroke_data['ever_married'],stroke_data['stroke'])"
      ],
      "execution_count": null,
      "outputs": [
        {
          "output_type": "stream",
          "text": [
            "결혼경험: ['Yes' 'No']\n"
          ],
          "name": "stdout"
        },
        {
          "output_type": "execute_result",
          "data": {
            "text/html": [
              "<div>\n",
              "<style scoped>\n",
              "    .dataframe tbody tr th:only-of-type {\n",
              "        vertical-align: middle;\n",
              "    }\n",
              "\n",
              "    .dataframe tbody tr th {\n",
              "        vertical-align: top;\n",
              "    }\n",
              "\n",
              "    .dataframe thead th {\n",
              "        text-align: right;\n",
              "    }\n",
              "</style>\n",
              "<table border=\"1\" class=\"dataframe\">\n",
              "  <thead>\n",
              "    <tr style=\"text-align: right;\">\n",
              "      <th>stroke</th>\n",
              "      <th>0</th>\n",
              "      <th>1</th>\n",
              "    </tr>\n",
              "    <tr>\n",
              "      <th>ever_married</th>\n",
              "      <th></th>\n",
              "      <th></th>\n",
              "    </tr>\n",
              "  </thead>\n",
              "  <tbody>\n",
              "    <tr>\n",
              "      <th>No</th>\n",
              "      <td>1728</td>\n",
              "      <td>29</td>\n",
              "    </tr>\n",
              "    <tr>\n",
              "      <th>Yes</th>\n",
              "      <td>3133</td>\n",
              "      <td>220</td>\n",
              "    </tr>\n",
              "  </tbody>\n",
              "</table>\n",
              "</div>"
            ],
            "text/plain": [
              "stroke           0    1\n",
              "ever_married           \n",
              "No            1728   29\n",
              "Yes           3133  220"
            ]
          },
          "metadata": {
            "tags": []
          },
          "execution_count": 82
        }
      ]
    },
    {
      "cell_type": "code",
      "metadata": {
        "id": "MIygQ7Z7hST0",
        "colab": {
          "base_uri": "https://localhost:8080/",
          "height": 251
        },
        "outputId": "d28682a2-176d-4ab3-d01e-b60ebcb4a638"
      },
      "source": [
        "print('직장종류:',stroke_data['work_type'].unique())\n",
        "pd.crosstab(stroke_data['work_type'],stroke_data['stroke'])"
      ],
      "execution_count": null,
      "outputs": [
        {
          "output_type": "stream",
          "text": [
            "직장종류: ['Private' 'Self-employed' 'Govt_job' 'children' 'Never_worked']\n"
          ],
          "name": "stdout"
        },
        {
          "output_type": "execute_result",
          "data": {
            "text/html": [
              "<div>\n",
              "<style scoped>\n",
              "    .dataframe tbody tr th:only-of-type {\n",
              "        vertical-align: middle;\n",
              "    }\n",
              "\n",
              "    .dataframe tbody tr th {\n",
              "        vertical-align: top;\n",
              "    }\n",
              "\n",
              "    .dataframe thead th {\n",
              "        text-align: right;\n",
              "    }\n",
              "</style>\n",
              "<table border=\"1\" class=\"dataframe\">\n",
              "  <thead>\n",
              "    <tr style=\"text-align: right;\">\n",
              "      <th>stroke</th>\n",
              "      <th>0</th>\n",
              "      <th>1</th>\n",
              "    </tr>\n",
              "    <tr>\n",
              "      <th>work_type</th>\n",
              "      <th></th>\n",
              "      <th></th>\n",
              "    </tr>\n",
              "  </thead>\n",
              "  <tbody>\n",
              "    <tr>\n",
              "      <th>Govt_job</th>\n",
              "      <td>624</td>\n",
              "      <td>33</td>\n",
              "    </tr>\n",
              "    <tr>\n",
              "      <th>Never_worked</th>\n",
              "      <td>22</td>\n",
              "      <td>0</td>\n",
              "    </tr>\n",
              "    <tr>\n",
              "      <th>Private</th>\n",
              "      <td>2776</td>\n",
              "      <td>149</td>\n",
              "    </tr>\n",
              "    <tr>\n",
              "      <th>Self-employed</th>\n",
              "      <td>754</td>\n",
              "      <td>65</td>\n",
              "    </tr>\n",
              "    <tr>\n",
              "      <th>children</th>\n",
              "      <td>685</td>\n",
              "      <td>2</td>\n",
              "    </tr>\n",
              "  </tbody>\n",
              "</table>\n",
              "</div>"
            ],
            "text/plain": [
              "stroke            0    1\n",
              "work_type               \n",
              "Govt_job        624   33\n",
              "Never_worked     22    0\n",
              "Private        2776  149\n",
              "Self-employed   754   65\n",
              "children        685    2"
            ]
          },
          "metadata": {
            "tags": []
          },
          "execution_count": 83
        }
      ]
    },
    {
      "cell_type": "code",
      "metadata": {
        "id": "0g5qj_uvixv1",
        "colab": {
          "base_uri": "https://localhost:8080/",
          "height": 159
        },
        "outputId": "37bfe13f-e505-41b6-e18c-563f46ece03c"
      },
      "source": [
        "print('사는지역:',stroke_data['Residence_type'].unique())\n",
        "pd.crosstab(stroke_data['Residence_type'],stroke_data['stroke'])"
      ],
      "execution_count": null,
      "outputs": [
        {
          "output_type": "stream",
          "text": [
            "사는지역: ['Urban' 'Rural']\n"
          ],
          "name": "stdout"
        },
        {
          "output_type": "execute_result",
          "data": {
            "text/html": [
              "<div>\n",
              "<style scoped>\n",
              "    .dataframe tbody tr th:only-of-type {\n",
              "        vertical-align: middle;\n",
              "    }\n",
              "\n",
              "    .dataframe tbody tr th {\n",
              "        vertical-align: top;\n",
              "    }\n",
              "\n",
              "    .dataframe thead th {\n",
              "        text-align: right;\n",
              "    }\n",
              "</style>\n",
              "<table border=\"1\" class=\"dataframe\">\n",
              "  <thead>\n",
              "    <tr style=\"text-align: right;\">\n",
              "      <th>stroke</th>\n",
              "      <th>0</th>\n",
              "      <th>1</th>\n",
              "    </tr>\n",
              "    <tr>\n",
              "      <th>Residence_type</th>\n",
              "      <th></th>\n",
              "      <th></th>\n",
              "    </tr>\n",
              "  </thead>\n",
              "  <tbody>\n",
              "    <tr>\n",
              "      <th>Rural</th>\n",
              "      <td>2400</td>\n",
              "      <td>114</td>\n",
              "    </tr>\n",
              "    <tr>\n",
              "      <th>Urban</th>\n",
              "      <td>2461</td>\n",
              "      <td>135</td>\n",
              "    </tr>\n",
              "  </tbody>\n",
              "</table>\n",
              "</div>"
            ],
            "text/plain": [
              "stroke             0    1\n",
              "Residence_type           \n",
              "Rural           2400  114\n",
              "Urban           2461  135"
            ]
          },
          "metadata": {
            "tags": []
          },
          "execution_count": 84
        }
      ]
    },
    {
      "cell_type": "code",
      "metadata": {
        "colab": {
          "base_uri": "https://localhost:8080/",
          "height": 407
        },
        "id": "X9Tsdo-ZLauN",
        "outputId": "b8393905-6ecd-4bf8-fa5f-69e7fc9c1e24"
      },
      "source": [
        "print(max(stroke_data['avg_glucose_level']),min(stroke_data['avg_glucose_level'])) # ->식후 혈당수치가 200이상이 되면 당뇨병 의심, 건강적신호, but 가능한 수치임\n",
        "sns.displot(stroke_data['avg_glucose_level']) # 정상인의 혈당은 공복의 경우 60~120㎎/㎗, 식사 2시간 후의 혈당은 140㎎/㎗ 이하로 유지됩니다)"
      ],
      "execution_count": null,
      "outputs": [
        {
          "output_type": "stream",
          "text": [
            "271.74 55.12\n"
          ],
          "name": "stdout"
        },
        {
          "output_type": "execute_result",
          "data": {
            "text/plain": [
              "<seaborn.axisgrid.FacetGrid at 0x7f500f32af90>"
            ]
          },
          "metadata": {
            "tags": []
          },
          "execution_count": 85
        },
        {
          "output_type": "display_data",
          "data": {
            "image/png": "[encoded data removed]",
            "text/plain": [
              "<Figure size 360x360 with 1 Axes>"
            ]
          },
          "metadata": {
            "tags": [],
            "needs_background": "light"
          }
        }
      ]
    },
    {
      "cell_type": "code",
      "metadata": {
        "colab": {
          "base_uri": "https://localhost:8080/"
        },
        "id": "xEfvTzAyNsc6",
        "outputId": "36b340ac-cd95-40bb-8d64-9e733fd00d2f"
      },
      "source": [
        "glu_condition=(stroke_data['avg_glucose_level'] > 160) #->혈당이 높다해서 뇌졸증이 오는 것은 아님\n",
        "print(stroke_data[glu_condition]['stroke'].value_counts())"
      ],
      "execution_count": null,
      "outputs": [
        {
          "output_type": "stream",
          "text": [
            "0    579\n",
            "1     89\n",
            "Name: stroke, dtype: int64\n"
          ],
          "name": "stdout"
        }
      ]
    },
    {
      "cell_type": "code",
      "metadata": {
        "colab": {
          "base_uri": "https://localhost:8080/",
          "height": 407
        },
        "id": "QA3gebGBO0Cf",
        "outputId": "29b44f3d-62c9-4d88-d9ed-8b5345549d8d"
      },
      "source": [
        "print(max(stroke_data['bmi']),min(stroke_data['bmi'])) # -> 초고도비만이면 97도 나올수 있음, 미국에서 500키로 나가는 남성 존재..\n",
        "sns.displot(stroke_data['bmi'])"
      ],
      "execution_count": null,
      "outputs": [
        {
          "output_type": "stream",
          "text": [
            "97.6 10.3\n"
          ],
          "name": "stdout"
        },
        {
          "output_type": "execute_result",
          "data": {
            "text/plain": [
              "<seaborn.axisgrid.FacetGrid at 0x7f500f344c50>"
            ]
          },
          "metadata": {
            "tags": []
          },
          "execution_count": 87
        },
        {
          "output_type": "display_data",
          "data": {
            "image/png": "[encoded data removed]",
            "text/plain": [
              "<Figure size 360x360 with 1 Axes>"
            ]
          },
          "metadata": {
            "tags": [],
            "needs_background": "light"
          }
        }
      ]
    },
    {
      "cell_type": "code",
      "metadata": {
        "colab": {
          "base_uri": "https://localhost:8080/"
        },
        "id": "MuytzJrUQk7z",
        "outputId": "28a26f62-f5bd-4181-9f0a-5e3b95bbdc59"
      },
      "source": [
        "bmi_condition= (stroke_data['bmi'] >40)    # -> bmi가 높고 뚱뚱하다해서 꼭 뇌졸증이 오는 것은 아님\n",
        "stroke_data[bmi_condition]['stroke'].value_counts()  "
      ],
      "execution_count": null,
      "outputs": [
        {
          "output_type": "execute_result",
          "data": {
            "text/plain": [
              "0    390\n",
              "1     18\n",
              "Name: stroke, dtype: int64"
            ]
          },
          "metadata": {
            "tags": []
          },
          "execution_count": 88
        }
      ]
    },
    {
      "cell_type": "code",
      "metadata": {
        "id": "58EgqSOsjtPE",
        "colab": {
          "base_uri": "https://localhost:8080/",
          "height": 221
        },
        "outputId": "85844544-e25f-4c55-acbb-7d26c25fdc90"
      },
      "source": [
        "print('흡연여부:',stroke_data['smoking_status'].unique())\n",
        "pd.crosstab(stroke_data['smoking_status'],stroke_data['stroke'])"
      ],
      "execution_count": null,
      "outputs": [
        {
          "output_type": "stream",
          "text": [
            "흡연여부: ['formerly smoked' 'never smoked' 'smokes' 'Unknown']\n"
          ],
          "name": "stdout"
        },
        {
          "output_type": "execute_result",
          "data": {
            "text/html": [
              "<div>\n",
              "<style scoped>\n",
              "    .dataframe tbody tr th:only-of-type {\n",
              "        vertical-align: middle;\n",
              "    }\n",
              "\n",
              "    .dataframe tbody tr th {\n",
              "        vertical-align: top;\n",
              "    }\n",
              "\n",
              "    .dataframe thead th {\n",
              "        text-align: right;\n",
              "    }\n",
              "</style>\n",
              "<table border=\"1\" class=\"dataframe\">\n",
              "  <thead>\n",
              "    <tr style=\"text-align: right;\">\n",
              "      <th>stroke</th>\n",
              "      <th>0</th>\n",
              "      <th>1</th>\n",
              "    </tr>\n",
              "    <tr>\n",
              "      <th>smoking_status</th>\n",
              "      <th></th>\n",
              "      <th></th>\n",
              "    </tr>\n",
              "  </thead>\n",
              "  <tbody>\n",
              "    <tr>\n",
              "      <th>Unknown</th>\n",
              "      <td>1497</td>\n",
              "      <td>47</td>\n",
              "    </tr>\n",
              "    <tr>\n",
              "      <th>formerly smoked</th>\n",
              "      <td>815</td>\n",
              "      <td>70</td>\n",
              "    </tr>\n",
              "    <tr>\n",
              "      <th>never smoked</th>\n",
              "      <td>1802</td>\n",
              "      <td>90</td>\n",
              "    </tr>\n",
              "    <tr>\n",
              "      <th>smokes</th>\n",
              "      <td>747</td>\n",
              "      <td>42</td>\n",
              "    </tr>\n",
              "  </tbody>\n",
              "</table>\n",
              "</div>"
            ],
            "text/plain": [
              "stroke              0   1\n",
              "smoking_status           \n",
              "Unknown          1497  47\n",
              "formerly smoked   815  70\n",
              "never smoked     1802  90\n",
              "smokes            747  42"
            ]
          },
          "metadata": {
            "tags": []
          },
          "execution_count": 89
        }
      ]
    },
    {
      "cell_type": "code",
      "metadata": {
        "colab": {
          "base_uri": "https://localhost:8080/"
        },
        "id": "Lddd8ARLav09",
        "outputId": "6301b2e7-8531-4e09-b809-89a2ba18033d"
      },
      "source": [
        "stroke_data['stroke'].value_counts() #-> 몹시 언밸런스한 데이터 minor값을 oversmapling할 필요가 있음"
      ],
      "execution_count": 5,
      "outputs": [
        {
          "output_type": "execute_result",
          "data": {
            "text/plain": [
              "0    4861\n",
              "1     249\n",
              "Name: stroke, dtype: int64"
            ]
          },
          "metadata": {
            "tags": []
          },
          "execution_count": 5
        }
      ]
    },
    {
      "cell_type": "code",
      "metadata": {
        "id": "XwxjpZiQNuVO",
        "outputId": "efe1403d-f804-4cb4-baf4-489ca8d70460",
        "colab": {
          "base_uri": "https://localhost:8080/",
          "height": 388
        }
      },
      "source": [
        "sns.displot(stroke_data['stroke'])"
      ],
      "execution_count": 9,
      "outputs": [
        {
          "output_type": "execute_result",
          "data": {
            "text/plain": [
              "<seaborn.axisgrid.FacetGrid at 0x7fcc864cbfd0>"
            ]
          },
          "metadata": {
            "tags": []
          },
          "execution_count": 9
        },
        {
          "output_type": "display_data",
          "data": {
            "image/png": "[encoded data removed]",
            "text/plain": [
              "<Figure size 360x360 with 1 Axes>"
            ]
          },
          "metadata": {
            "tags": [],
            "needs_background": "light"
          }
        }
      ]
    },
    {
      "cell_type": "markdown",
      "metadata": {
        "id": "YXyM0-FvSxbN"
      },
      "source": [
        "이상치는 없음, 꽤나 정제된 데이터 , 정보 누수도 없다. stroke 특성에 대한 파생변수가 존재하지 않기 때문이다.\n",
        "\n",
        "생각보다 특성별로 stroke 발현율이 눈에 띄게 보이지 않아 정확한 분류가 힘들 것 같다. 하지만 지극히 제한적인 정보로 병을 찾아내기 위해 효과과 있을 듯 싶다.\n",
        "\n",
        "\n",
        "\n",
        "\n",
        "###2.4 feature engineering"
      ]
    },
    {
      "cell_type": "code",
      "metadata": {
        "id": "IN9Gmvbdlurn"
      },
      "source": [
        "#feature engineering\n",
        "#결측치를 가진 bmi 삭제,  대체하는 방법도 있지만 bmi수치가 영향을 줄 수도 있어 잘못학습되는 것을 방지\n",
        "#dropna 함수에서 default 값으로 axis=0, how='any'이다. any면 행중에 하나라도 결측치가 있다면 제거, all이면 그 행에 모든 특성이 결측치일때 제거\n",
        "stroke_data.dropna(inplace=True) \n",
        "stroke_data.reset_index(drop=True,inplace=True)\n",
        "\n",
        "#id 특성은 예측하는데 도움되지 않으니 삭제\n",
        "stroke_data.drop(columns='id',inplace=True)\n",
        "#성별이 Other인 관측치 1개 삭제 -> 의학적으로 판단하기 위해서는 생물학적 성별이 필요, 사회적 성별인 gender의 other은 필요없다고 판단\n",
        "rm = stroke_data[stroke_data['gender'] == 'Other' ].index\n",
        "stroke_data.drop(rm, inplace=True)\n",
        "\n",
        "#apply와 lamda  함수 이용하기\n",
        "# stroke_data['gender']=stroke_data['gender'].apply(lambda val:1 if val =='Male' else 0)\n",
        "# stroke_data['ever_married']=stroke_data['ever_married'].apply(lambda val:1 if val =='Yes' else 0)\n",
        "# stroke_data['Residence_type']=stroke_data['Residence_type'].apply(lambda val:1 if val =='Urban' else 0)"
      ],
      "execution_count": 10,
      "outputs": []
    },
    {
      "cell_type": "markdown",
      "metadata": {
        "id": "jyfmIDjWj_fl"
      },
      "source": [
        "###2.5 인코더 선택\n",
        "\n",
        "내가 가진 데이터가 숫자형 데이터도 있지만, 카테고리형 데이터를 많이 포함하고 있다. sklearn을 수행하기 위해서는 모두 숫자로 된 데이터들을 필요로 하기 때문에 인코딩을 해주어야 한다.\n",
        "\n",
        "카테고리형 변수들을 어떻게 인코딩을 할까\n",
        "\n",
        "#####<strong>-순서형 인코딩(Ordinal encoding)</strong>\n",
        "  \n",
        "\n",
        "*   문자열(범주형) 값을 내림차순 정렬 후 0 부터 1씩 증가하는 값으로 변환\n",
        "\n",
        "*   숫자의 차이가 모델에 영향을 주지 않는 트리 계열 모델(의사결정나무, 랜덤포레스트)에 적용한다.\n",
        "\n",
        "*   숫자의 차이가 모델에 영향을 미치는 선형 계열 모델(로지스틱회귀, SVM, 신경망)에는 사용하면 안된다.\n",
        "\n",
        "#####<strong>-원핫 인코딩(One-Hot encoding)</strong>\n",
        "\n",
        "\n",
        "*   N개의 클래스를 N 차원의 One-Hot 벡터로 표현되도록 변환\n",
        "고유값들을 피처로 만들고 정답에 해당하는 열은 1로 나머진 0으로 표시한다.\n",
        "\n",
        "*   숫자의 차이가 모델에 영향을 미치는 선형 계열 모델(로지스틱회귀, SVM, 신경망)에서 범주형 데이터 변환시 라벨 인코딩 보다 원핫 인코딩을 사용한다.\n"
      ]
    },
    {
      "cell_type": "markdown",
      "metadata": {
        "id": "koXaVxPXkeio"
      },
      "source": [
        "#<strong>3. 학습 모델링</strong>"
      ]
    },
    {
      "cell_type": "markdown",
      "metadata": {
        "id": "_Qo2v-IEyfn1"
      },
      "source": [
        "###3.1 타켓선정 및 데이터셋분리 그리고 베이스라인모델"
      ]
    },
    {
      "cell_type": "markdown",
      "metadata": {
        "id": "RonLyQiwm3_E"
      },
      "source": [
        "target 선정이유: 각 특성에 따른 뇌졸증 발생에 영향을 미치는 특성을 찾기 위함이다\n",
        "\n",
        "해당 베이스라인 모델은 validation set의 target의 major값으로 선정하였고, 평가지표는 재현율(recall)을 선택하였습니다. \n",
        "의료분야에서는 오진 여부도 중요하지만, 실제 병이 있을 때 예측을 해내야 생명을 구하는데 중요할 것입니다."
      ]
    },
    {
      "cell_type": "code",
      "metadata": {
        "colab": {
          "base_uri": "https://localhost:8080/"
        },
        "id": "6-XmFMo9hXm8",
        "outputId": "122ef3ca-28fc-4acb-95c4-6ee245a43439"
      },
      "source": [
        "#target 설정\n",
        "target='stroke'\n",
        "features=stroke_data.drop(columns=[target]).columns\n",
        "features"
      ],
      "execution_count": 11,
      "outputs": [
        {
          "output_type": "execute_result",
          "data": {
            "text/plain": [
              "Index(['gender', 'age', 'hypertension', 'heart_disease', 'ever_married',\n",
              "       'work_type', 'Residence_type', 'avg_glucose_level', 'bmi',\n",
              "       'smoking_status'],\n",
              "      dtype='object')"
            ]
          },
          "metadata": {
            "tags": []
          },
          "execution_count": 11
        }
      ]
    },
    {
      "cell_type": "code",
      "metadata": {
        "id": "rthpIUjhkXPq",
        "colab": {
          "base_uri": "https://localhost:8080/"
        },
        "outputId": "304d9cd3-d2b4-4654-a783-12a4ff21d22a"
      },
      "source": [
        "# train_set, val_set, test_set hold-out분리\n",
        "train, test = train_test_split(stroke_data, train_size=0.80, test_size=0.20, \n",
        "                              stratify=stroke_data[target], random_state=2)\n",
        "train, val = train_test_split(train, train_size=0.80, test_size=0.20, \n",
        "                              stratify=train[target], random_state=2)\n",
        "train.shape, val.shape, test.shape\n"
      ],
      "execution_count": 12,
      "outputs": [
        {
          "output_type": "execute_result",
          "data": {
            "text/plain": [
              "((3140, 11), (786, 11), (982, 11))"
            ]
          },
          "metadata": {
            "tags": []
          },
          "execution_count": 12
        }
      ]
    },
    {
      "cell_type": "code",
      "metadata": {
        "id": "a1guPffwiGnq"
      },
      "source": [
        "X_train = train[features]\n",
        "y_train = train[target]\n",
        "X_val = val[features]\n",
        "y_val = val[target]\n",
        "X_test = test[features]\n",
        "y_test = test[target]"
      ],
      "execution_count": 13,
      "outputs": []
    },
    {
      "cell_type": "code",
      "metadata": {
        "colab": {
          "base_uri": "https://localhost:8080/"
        },
        "id": "JFzsIKm7oHm1",
        "outputId": "5224d526-d7a1-458e-b612-d4733ff0f7f3"
      },
      "source": [
        "y_train.value_counts(normalize=True)\n",
        "y_basepred=[y_val.mode()[0]]*len(y_val)\n",
        "y_basepred\n",
        "\n",
        "print(classification_report(y_val, y_basepred))\n",
        "print(score(y_val,y_basepred))"
      ],
      "execution_count": 14,
      "outputs": [
        {
          "output_type": "stream",
          "text": [
            "              precision    recall  f1-score   support\n",
            "\n",
            "           0       0.96      1.00      0.98       753\n",
            "           1       0.00      0.00      0.00        33\n",
            "\n",
            "    accuracy                           0.96       786\n",
            "   macro avg       0.48      0.50      0.49       786\n",
            "weighted avg       0.92      0.96      0.94       786\n",
            "\n",
            "정확도 : 0.96, 정밀도 : 0.00, 재현율 : 0.00\n",
            "f1-score : 0.00, auc : 0.50\n",
            "None\n"
          ],
          "name": "stdout"
        },
        {
          "output_type": "stream",
          "text": [
            "/usr/local/lib/python3.7/dist-packages/sklearn/metrics/_classification.py:1248: UndefinedMetricWarning: Precision and F-score are ill-defined and being set to 0.0 in labels with no predicted samples. Use `zero_division` parameter to control this behavior.\n",
            "  _warn_prf(average, modifier, msg_start, len(result))\n",
            "/usr/local/lib/python3.7/dist-packages/sklearn/metrics/_classification.py:1248: UndefinedMetricWarning: Precision and F-score are ill-defined and being set to 0.0 in labels with no predicted samples. Use `zero_division` parameter to control this behavior.\n",
            "  _warn_prf(average, modifier, msg_start, len(result))\n",
            "/usr/local/lib/python3.7/dist-packages/sklearn/metrics/_classification.py:1248: UndefinedMetricWarning: Precision and F-score are ill-defined and being set to 0.0 in labels with no predicted samples. Use `zero_division` parameter to control this behavior.\n",
            "  _warn_prf(average, modifier, msg_start, len(result))\n",
            "/usr/local/lib/python3.7/dist-packages/sklearn/metrics/_classification.py:1248: UndefinedMetricWarning: Precision is ill-defined and being set to 0.0 due to no predicted samples. Use `zero_division` parameter to control this behavior.\n",
            "  _warn_prf(average, modifier, msg_start, len(result))\n"
          ],
          "name": "stderr"
        }
      ]
    },
    {
      "cell_type": "markdown",
      "metadata": {
        "id": "KhyuAzYTyk8q"
      },
      "source": [
        "###3.2 스케일링 및 인코딩"
      ]
    },
    {
      "cell_type": "markdown",
      "metadata": {
        "id": "KK3PGg_wiC6r"
      },
      "source": [
        "####3.2.1 OneHotEncoder 사용"
      ]
    },
    {
      "cell_type": "code",
      "metadata": {
        "id": "mh2cGgeVxsi7",
        "outputId": "4ac19c13-0544-40db-9ea5-4fba94c79614",
        "colab": {
          "base_uri": "https://localhost:8080/"
        }
      },
      "source": [
        "#onehot 적용 \n",
        "encoder=OneHotEncoder(use_cat_names=True)\n",
        "X_train_en=encoder.fit_transform(X_train)\n",
        "\n",
        "X_val_en=encoder.transform(X_val)\n",
        "X_test_en=encoder.transform(X_test)"
      ],
      "execution_count": 19,
      "outputs": [
        {
          "output_type": "stream",
          "text": [
            "/usr/local/lib/python3.7/dist-packages/category_encoders/utils.py:21: FutureWarning: is_categorical is deprecated and will be removed in a future version.  Use is_categorical_dtype instead\n",
            "  elif pd.api.types.is_categorical(cols):\n"
          ],
          "name": "stderr"
        }
      ]
    },
    {
      "cell_type": "code",
      "metadata": {
        "id": "O8KfSA3ZwFul"
      },
      "source": [
        "scaler= MinMaxScaler()\n",
        "X_train_sc=scaler.fit_transform(X_train_en)\n",
        "\n",
        "X_val_sc=scaler.transform(X_val_en)\n",
        "X_test_sc=scaler.transform(X_test_en)\n"
      ],
      "execution_count": 20,
      "outputs": []
    },
    {
      "cell_type": "code",
      "metadata": {
        "id": "Ka6A1PGvPaVG",
        "outputId": "12b09bf9-b7f2-4899-d3db-c86db1badb77",
        "colab": {
          "base_uri": "https://localhost:8080/",
          "height": 239
        }
      },
      "source": [
        "pd.DataFrame(X_train_sc, columns=X_train_en.columns).head()"
      ],
      "execution_count": 22,
      "outputs": [
        {
          "output_type": "execute_result",
          "data": {
            "text/html": [
              "<div>\n",
              "<style scoped>\n",
              "    .dataframe tbody tr th:only-of-type {\n",
              "        vertical-align: middle;\n",
              "    }\n",
              "\n",
              "    .dataframe tbody tr th {\n",
              "        vertical-align: top;\n",
              "    }\n",
              "\n",
              "    .dataframe thead th {\n",
              "        text-align: right;\n",
              "    }\n",
              "</style>\n",
              "<table border=\"1\" class=\"dataframe\">\n",
              "  <thead>\n",
              "    <tr style=\"text-align: right;\">\n",
              "      <th></th>\n",
              "      <th>gender_Male</th>\n",
              "      <th>gender_Female</th>\n",
              "      <th>age</th>\n",
              "      <th>hypertension</th>\n",
              "      <th>heart_disease</th>\n",
              "      <th>ever_married_No</th>\n",
              "      <th>ever_married_Yes</th>\n",
              "      <th>work_type_Private</th>\n",
              "      <th>work_type_children</th>\n",
              "      <th>work_type_Self-employed</th>\n",
              "      <th>work_type_Govt_job</th>\n",
              "      <th>work_type_Never_worked</th>\n",
              "      <th>Residence_type_Urban</th>\n",
              "      <th>Residence_type_Rural</th>\n",
              "      <th>avg_glucose_level</th>\n",
              "      <th>bmi</th>\n",
              "      <th>smoking_status_never smoked</th>\n",
              "      <th>smoking_status_Unknown</th>\n",
              "      <th>smoking_status_formerly smoked</th>\n",
              "      <th>smoking_status_smokes</th>\n",
              "    </tr>\n",
              "  </thead>\n",
              "  <tbody>\n",
              "    <tr>\n",
              "      <th>0</th>\n",
              "      <td>1.0</td>\n",
              "      <td>0.0</td>\n",
              "      <td>0.865723</td>\n",
              "      <td>0.0</td>\n",
              "      <td>0.0</td>\n",
              "      <td>1.0</td>\n",
              "      <td>0.0</td>\n",
              "      <td>1.0</td>\n",
              "      <td>0.0</td>\n",
              "      <td>0.0</td>\n",
              "      <td>0.0</td>\n",
              "      <td>0.0</td>\n",
              "      <td>1.0</td>\n",
              "      <td>0.0</td>\n",
              "      <td>0.187541</td>\n",
              "      <td>0.242841</td>\n",
              "      <td>1.0</td>\n",
              "      <td>0.0</td>\n",
              "      <td>0.0</td>\n",
              "      <td>0.0</td>\n",
              "    </tr>\n",
              "    <tr>\n",
              "      <th>1</th>\n",
              "      <td>0.0</td>\n",
              "      <td>1.0</td>\n",
              "      <td>0.182129</td>\n",
              "      <td>0.0</td>\n",
              "      <td>0.0</td>\n",
              "      <td>1.0</td>\n",
              "      <td>0.0</td>\n",
              "      <td>0.0</td>\n",
              "      <td>1.0</td>\n",
              "      <td>0.0</td>\n",
              "      <td>0.0</td>\n",
              "      <td>0.0</td>\n",
              "      <td>1.0</td>\n",
              "      <td>0.0</td>\n",
              "      <td>0.311330</td>\n",
              "      <td>0.191294</td>\n",
              "      <td>0.0</td>\n",
              "      <td>1.0</td>\n",
              "      <td>0.0</td>\n",
              "      <td>0.0</td>\n",
              "    </tr>\n",
              "    <tr>\n",
              "      <th>2</th>\n",
              "      <td>0.0</td>\n",
              "      <td>1.0</td>\n",
              "      <td>0.804688</td>\n",
              "      <td>0.0</td>\n",
              "      <td>0.0</td>\n",
              "      <td>0.0</td>\n",
              "      <td>1.0</td>\n",
              "      <td>0.0</td>\n",
              "      <td>0.0</td>\n",
              "      <td>1.0</td>\n",
              "      <td>0.0</td>\n",
              "      <td>0.0</td>\n",
              "      <td>1.0</td>\n",
              "      <td>0.0</td>\n",
              "      <td>0.408864</td>\n",
              "      <td>0.206186</td>\n",
              "      <td>1.0</td>\n",
              "      <td>0.0</td>\n",
              "      <td>0.0</td>\n",
              "      <td>0.0</td>\n",
              "    </tr>\n",
              "    <tr>\n",
              "      <th>3</th>\n",
              "      <td>1.0</td>\n",
              "      <td>0.0</td>\n",
              "      <td>0.462891</td>\n",
              "      <td>0.0</td>\n",
              "      <td>0.0</td>\n",
              "      <td>0.0</td>\n",
              "      <td>1.0</td>\n",
              "      <td>0.0</td>\n",
              "      <td>0.0</td>\n",
              "      <td>0.0</td>\n",
              "      <td>1.0</td>\n",
              "      <td>0.0</td>\n",
              "      <td>0.0</td>\n",
              "      <td>1.0</td>\n",
              "      <td>0.378846</td>\n",
              "      <td>0.240550</td>\n",
              "      <td>0.0</td>\n",
              "      <td>0.0</td>\n",
              "      <td>1.0</td>\n",
              "      <td>0.0</td>\n",
              "    </tr>\n",
              "    <tr>\n",
              "      <th>4</th>\n",
              "      <td>1.0</td>\n",
              "      <td>0.0</td>\n",
              "      <td>0.707031</td>\n",
              "      <td>0.0</td>\n",
              "      <td>0.0</td>\n",
              "      <td>1.0</td>\n",
              "      <td>0.0</td>\n",
              "      <td>1.0</td>\n",
              "      <td>0.0</td>\n",
              "      <td>0.0</td>\n",
              "      <td>0.0</td>\n",
              "      <td>0.0</td>\n",
              "      <td>0.0</td>\n",
              "      <td>1.0</td>\n",
              "      <td>0.111555</td>\n",
              "      <td>0.348225</td>\n",
              "      <td>0.0</td>\n",
              "      <td>0.0</td>\n",
              "      <td>1.0</td>\n",
              "      <td>0.0</td>\n",
              "    </tr>\n",
              "  </tbody>\n",
              "</table>\n",
              "</div>"
            ],
            "text/plain": [
              "   gender_Male  ...  smoking_status_smokes\n",
              "0          1.0  ...                    0.0\n",
              "1          0.0  ...                    0.0\n",
              "2          0.0  ...                    0.0\n",
              "3          1.0  ...                    0.0\n",
              "4          1.0  ...                    0.0\n",
              "\n",
              "[5 rows x 20 columns]"
            ]
          },
          "metadata": {
            "tags": []
          },
          "execution_count": 22
        }
      ]
    },
    {
      "cell_type": "markdown",
      "metadata": {
        "id": "mcjTUGpJiKK6"
      },
      "source": [
        "####3.2.2 OrdinalEncoder 사용"
      ]
    },
    {
      "cell_type": "code",
      "metadata": {
        "id": "IVWcK_vqyNuu"
      },
      "source": [
        "#ordinal\n",
        "ord_encoder=OrdinalEncoder()\n",
        "X_train_ord=ord_encoder.fit_transform(X_train)\n",
        "\n",
        "X_val_ord=ord_encoder.transform(X_val)\n",
        "X_test_ord=ord_encoder.transform(X_test)"
      ],
      "execution_count": null,
      "outputs": []
    },
    {
      "cell_type": "code",
      "metadata": {
        "id": "0KP_mE6-wZl0"
      },
      "source": [
        "scaler= MinMaxScaler()\n",
        "X_train_ord=scaler.fit_transform(X_train_ord)\n",
        "\n",
        "X_val_ord=scaler.transform(X_val_ord)\n",
        "X_test_ord=scaler.transform(X_test_ord)"
      ],
      "execution_count": null,
      "outputs": []
    },
    {
      "cell_type": "markdown",
      "metadata": {
        "id": "8oxiJ0mUywUY"
      },
      "source": [
        "###3.3 Over-sampling"
      ]
    },
    {
      "cell_type": "code",
      "metadata": {
        "colab": {
          "base_uri": "https://localhost:8080/"
        },
        "id": "WT92WA3lxhtI",
        "outputId": "8b3c7de0-af20-4b61-e7bc-e682d18514d4"
      },
      "source": [
        "smote=SMOTE()\n",
        "X_train_enS, y_train_enS = smote.fit_resample(X_train_en, y_train)\n",
        "X_train_enS.shape, y_train_enS.shape"
      ],
      "execution_count": 23,
      "outputs": [
        {
          "output_type": "execute_result",
          "data": {
            "text/plain": [
              "((6012, 20), (6012,))"
            ]
          },
          "metadata": {
            "tags": []
          },
          "execution_count": 23
        }
      ]
    },
    {
      "cell_type": "code",
      "metadata": {
        "id": "gmBei1fmWVAr",
        "outputId": "088848df-25b4-4af9-cf37-e2c294bcd83c",
        "colab": {
          "base_uri": "https://localhost:8080/",
          "height": 388
        }
      },
      "source": [
        "sns.displot(y_train_enS)"
      ],
      "execution_count": 24,
      "outputs": [
        {
          "output_type": "execute_result",
          "data": {
            "text/plain": [
              "<seaborn.axisgrid.FacetGrid at 0x7fcc7c298810>"
            ]
          },
          "metadata": {
            "tags": []
          },
          "execution_count": 24
        },
        {
          "output_type": "display_data",
          "data": {
            "image/png": "[encoded data removed]",
            "text/plain": [
              "<Figure size 360x360 with 1 Axes>"
            ]
          },
          "metadata": {
            "tags": [],
            "needs_background": "light"
          }
        }
      ]
    },
    {
      "cell_type": "code",
      "metadata": {
        "colab": {
          "base_uri": "https://localhost:8080/"
        },
        "id": "gG1Q1ptovDRB",
        "outputId": "dcfc01d4-8edf-4363-b56d-c5d187fcbff5"
      },
      "source": [
        "smote_ord=SMOTE()\n",
        "X_train_ordS, y_train_ordS = smote_ord.fit_resample(X_train_ord, y_train)\n",
        "X_train_ordS.shape, y_train_ordS.shape"
      ],
      "execution_count": null,
      "outputs": [
        {
          "output_type": "execute_result",
          "data": {
            "text/plain": [
              "((6012, 10), (6012,))"
            ]
          },
          "metadata": {
            "tags": []
          },
          "execution_count": 97
        }
      ]
    },
    {
      "cell_type": "markdown",
      "metadata": {
        "id": "wifTIPd_3L2b"
      },
      "source": [
        "###3.4 다양한 모델과 validation set으로 측정"
      ]
    },
    {
      "cell_type": "markdown",
      "metadata": {
        "id": "Lm5HKKUt4U0g"
      },
      "source": [
        "####3.4.1 로지스틱 회귀모델로 확인하기"
      ]
    },
    {
      "cell_type": "code",
      "metadata": {
        "colab": {
          "base_uri": "https://localhost:8080/",
          "height": 297
        },
        "id": "rMJy8SociQcs",
        "outputId": "63824ebd-3e93-46a8-da1d-2a8533561007"
      },
      "source": [
        "model_logi = LogisticRegression(random_state=2)\n",
        "model_logi.fit(X_train_enS, y_train_enS)\n",
        "y_predL = model_logi.predict(X_val_en)\n",
        "\n",
        "fig, ax = plt.subplots()\n",
        "pcm = plot_confusion_matrix(model_logi, X_val_en, y_val,cmap=plt.cm.Blues,ax=ax);\n",
        "plt.title(f'Confusion matrix, n = {len(y_val)}', fontsize=15)\n",
        "plt.show()"
      ],
      "execution_count": null,
      "outputs": [
        {
          "output_type": "display_data",
          "data": {
            "image/png": "[encoded data removed]",
            "text/plain": [
              "<Figure size 432x288 with 2 Axes>"
            ]
          },
          "metadata": {
            "tags": [],
            "needs_background": "light"
          }
        }
      ]
    },
    {
      "cell_type": "code",
      "metadata": {
        "id": "gOz7jIlh4Psb",
        "colab": {
          "base_uri": "https://localhost:8080/"
        },
        "outputId": "3eaa1cdc-87dc-44a6-88da-75056a2aa96e"
      },
      "source": [
        "print(classification_report(y_val, y_predL))\n",
        "score(y_val,y_predL)"
      ],
      "execution_count": null,
      "outputs": [
        {
          "output_type": "stream",
          "text": [
            "              precision    recall  f1-score   support\n",
            "\n",
            "           0       0.98      0.76      0.85       753\n",
            "           1       0.09      0.58      0.16        33\n",
            "\n",
            "    accuracy                           0.75       786\n",
            "   macro avg       0.54      0.67      0.51       786\n",
            "weighted avg       0.94      0.75      0.82       786\n",
            "\n"
          ],
          "name": "stdout"
        }
      ]
    },
    {
      "cell_type": "markdown",
      "metadata": {
        "id": "lbjK5WQR4g7f"
      },
      "source": [
        "####3.4.2 의사결정나무 모델"
      ]
    },
    {
      "cell_type": "code",
      "metadata": {
        "id": "spUp55v-8cHQ",
        "colab": {
          "base_uri": "https://localhost:8080/",
          "height": 297
        },
        "outputId": "d7522c28-16d5-45d3-f3a7-e98b5befb16d"
      },
      "source": [
        "model_tree=DecisionTreeClassifier(random_state=2)\n",
        "model_tree.fit(X_train_ordS, y_train_ordS)\n",
        "y_predT = model_tree.predict(X_val_ord)\n",
        "\n",
        "fig, ax = plt.subplots()\n",
        "pcm = plot_confusion_matrix(model_tree, X_val_ord, y_val,cmap=plt.cm.Blues,ax=ax);\n",
        "plt.title(f'Confusion matrix, n = {len(y_val)}', fontsize=15)\n",
        "plt.show()"
      ],
      "execution_count": null,
      "outputs": [
        {
          "output_type": "display_data",
          "data": {
            "image/png": "[encoded data removed]",
            "text/plain": [
              "<Figure size 432x288 with 2 Axes>"
            ]
          },
          "metadata": {
            "tags": [],
            "needs_background": "light"
          }
        }
      ]
    },
    {
      "cell_type": "code",
      "metadata": {
        "id": "M-_NwgDb9UBO",
        "colab": {
          "base_uri": "https://localhost:8080/"
        },
        "outputId": "23747cf4-b80e-4e35-eff1-801eefa9d19a"
      },
      "source": [
        "print(classification_report(y_val, y_predT))\n",
        "score(y_val,y_predT)"
      ],
      "execution_count": null,
      "outputs": [
        {
          "output_type": "stream",
          "text": [
            "              precision    recall  f1-score   support\n",
            "\n",
            "           0       0.96      0.90      0.93       753\n",
            "           1       0.08      0.18      0.11        33\n",
            "\n",
            "    accuracy                           0.87       786\n",
            "   macro avg       0.52      0.54      0.52       786\n",
            "weighted avg       0.92      0.87      0.90       786\n",
            "\n"
          ],
          "name": "stdout"
        }
      ]
    },
    {
      "cell_type": "markdown",
      "metadata": {
        "id": "-5udMIbr9ipD"
      },
      "source": [
        "####3.4.3 랜덤포레스트 모델\n"
      ]
    },
    {
      "cell_type": "code",
      "metadata": {
        "id": "O6GA_FAu9iK0",
        "colab": {
          "base_uri": "https://localhost:8080/",
          "height": 297
        },
        "outputId": "108a9e34-a423-4d3c-80fe-14cc3254bfbb"
      },
      "source": [
        "model_forest=RandomForestClassifier(random_state=2)\n",
        "model_forest.fit(X_train_ordS, y_train_ordS)\n",
        "y_predF = model_forest.predict(X_val_ord)\n",
        "\n",
        "fig, ax = plt.subplots()\n",
        "pcm = plot_confusion_matrix(model_forest, X_val_ord, y_val, cmap=plt.cm.Blues, ax=ax);\n",
        "plt.title(f'Confusion matrix, n = {len(y_val)}', fontsize=15)\n",
        "plt.show()"
      ],
      "execution_count": null,
      "outputs": [
        {
          "output_type": "display_data",
          "data": {
            "image/png": "[encoded data removed]",
            "text/plain": [
              "<Figure size 432x288 with 2 Axes>"
            ]
          },
          "metadata": {
            "tags": [],
            "needs_background": "light"
          }
        }
      ]
    },
    {
      "cell_type": "code",
      "metadata": {
        "id": "GQ-dxw0p-HpQ",
        "colab": {
          "base_uri": "https://localhost:8080/"
        },
        "outputId": "1febc95c-2eb3-43f3-8ede-591d8aba23b0"
      },
      "source": [
        "print(classification_report(y_val, y_predF))\n",
        "score(y_val,y_predF)"
      ],
      "execution_count": null,
      "outputs": [
        {
          "output_type": "stream",
          "text": [
            "              precision    recall  f1-score   support\n",
            "\n",
            "           0       0.96      0.94      0.95       753\n",
            "           1       0.08      0.12      0.10        33\n",
            "\n",
            "    accuracy                           0.90       786\n",
            "   macro avg       0.52      0.53      0.52       786\n",
            "weighted avg       0.92      0.90      0.91       786\n",
            "\n"
          ],
          "name": "stdout"
        }
      ]
    },
    {
      "cell_type": "markdown",
      "metadata": {
        "id": "RSyOYP5c5X00"
      },
      "source": [
        "####3.4.4 XGBoost 모델"
      ]
    },
    {
      "cell_type": "code",
      "metadata": {
        "id": "rnT6FX305WYW",
        "colab": {
          "base_uri": "https://localhost:8080/",
          "height": 297
        },
        "outputId": "36bce7b1-67be-44a9-a980-40a18d52748a"
      },
      "source": [
        "model_XG=XGBClassifier(n_estimators=200, random_state=2,n_jobs=-1,learning_rate=0.2)\n",
        "\n",
        "model_XG.fit(X_train_ordS, y_train_ordS)\n",
        "y_predX = model_XG.predict(X_val_ord)\n",
        "\n",
        "fig, ax = plt.subplots()\n",
        "pcm = plot_confusion_matrix(model_XG, X_val_ord, y_val, cmap=plt.cm.Blues, ax=ax);\n",
        "plt.title(f'Confusion matrix, n = {len(y_val)}', fontsize=15)\n",
        "plt.show()"
      ],
      "execution_count": null,
      "outputs": [
        {
          "output_type": "display_data",
          "data": {
            "image/png": "[encoded data removed]",
            "text/plain": [
              "<Figure size 432x288 with 2 Axes>"
            ]
          },
          "metadata": {
            "tags": [],
            "needs_background": "light"
          }
        }
      ]
    },
    {
      "cell_type": "code",
      "metadata": {
        "colab": {
          "base_uri": "https://localhost:8080/"
        },
        "id": "oAATTshxYzzI",
        "outputId": "333b16a8-3b3b-4337-f2c7-3691f19f44d7"
      },
      "source": [
        "print(classification_report(y_val, y_predX))\n",
        "score(y_val,y_predX)"
      ],
      "execution_count": null,
      "outputs": [
        {
          "output_type": "stream",
          "text": [
            "              precision    recall  f1-score   support\n",
            "\n",
            "           0       0.96      0.95      0.96       753\n",
            "           1       0.05      0.06      0.06        33\n",
            "\n",
            "    accuracy                           0.91       786\n",
            "   macro avg       0.51      0.51      0.51       786\n",
            "weighted avg       0.92      0.91      0.92       786\n",
            "\n"
          ],
          "name": "stdout"
        }
      ]
    },
    {
      "cell_type": "markdown",
      "metadata": {
        "id": "XXEytuQlhRDx"
      },
      "source": [
        "####3.4.5 LGBoost 모델"
      ]
    },
    {
      "cell_type": "code",
      "metadata": {
        "colab": {
          "base_uri": "https://localhost:8080/",
          "height": 297
        },
        "id": "Bq2yGlTyhXDP",
        "outputId": "341e5cdd-6783-4109-82dd-039045ad64fa"
      },
      "source": [
        "model_LG=LGBMClassifier()\n",
        "model_LG.fit(X_train_ordS,y_train_ordS)\n",
        "y_predLG = model_LG.predict(X_val_ord)\n",
        "\n",
        "fig, ax = plt.subplots()\n",
        "pcm = plot_confusion_matrix(model_LG, X_val_ord, y_val, cmap=plt.cm.Blues, ax=ax);\n",
        "plt.title(f'Confusion matrix, n = {len(y_val)}', fontsize=15)\n",
        "plt.show()"
      ],
      "execution_count": null,
      "outputs": [
        {
          "output_type": "display_data",
          "data": {
            "image/png": "[encoded data removed]",
            "text/plain": [
              "<Figure size 432x288 with 2 Axes>"
            ]
          },
          "metadata": {
            "tags": [],
            "needs_background": "light"
          }
        }
      ]
    },
    {
      "cell_type": "code",
      "metadata": {
        "colab": {
          "base_uri": "https://localhost:8080/"
        },
        "id": "Xa-ZPZiVh3Me",
        "outputId": "a1d986a4-dd0a-4a87-dee8-918ed6e42c27"
      },
      "source": [
        "print(classification_report(y_val, y_predLG))\n",
        "score(y_val,y_predLG)"
      ],
      "execution_count": null,
      "outputs": [
        {
          "output_type": "stream",
          "text": [
            "              precision    recall  f1-score   support\n",
            "\n",
            "           0       0.96      0.96      0.96       753\n",
            "           1       0.10      0.09      0.09        33\n",
            "\n",
            "    accuracy                           0.93       786\n",
            "   macro avg       0.53      0.53      0.53       786\n",
            "weighted avg       0.92      0.93      0.93       786\n",
            "\n",
            "정확도 : 0.93, 정밀도 : 0.10, 재현율 : 0.09\n",
            "f1-score : 0.09, auc : 0.53\n"
          ],
          "name": "stdout"
        }
      ]
    },
    {
      "cell_type": "markdown",
      "metadata": {
        "id": "ys1kgNA2l4BJ"
      },
      "source": [
        "의료데이터이다 보니 여러 평가지표 중 재현율(recall)에 초점을 맞추었다.\n",
        "\n",
        "재현율이 높아야 실제 병이 있을 때 진단을 병이라고 내려준다."
      ]
    },
    {
      "cell_type": "markdown",
      "metadata": {
        "id": "JMx3GIIryyvJ"
      },
      "source": [
        "###3.5 하이퍼파라미터 튜닝"
      ]
    },
    {
      "cell_type": "code",
      "metadata": {
        "colab": {
          "base_uri": "https://localhost:8080/"
        },
        "id": "wkOqXNo7y8kD",
        "outputId": "bcac5335-2a80-4533-b373-a4ac5c4597f7"
      },
      "source": [
        "#랜더마이즈서치를 통한 하이퍼 파라미터 튜닝\n",
        "model = Pipeline([\n",
        "        ('One-Hot',OneHotEncoder(use_cat_names=True)),\n",
        "        ('Scaler', MinMaxScaler()),\n",
        "        ('sampling', SMOTE()),\n",
        "        ('classification', LogisticRegression())\n",
        "    ])\n",
        "\n",
        "dists = {\n",
        "    'classification__penalty': ['l1','l2','elasticnet','none'],\n",
        "    'classification__C': [0.01, 0.1, 1,10]\n",
        "}\n",
        "\n",
        "clf = RandomizedSearchCV(\n",
        "    estimator=model,\n",
        "    param_distributions=dists, \n",
        "    n_iter=50, \n",
        "    cv=3,\n",
        "    scoring='recall',\n",
        "    verbose= 5,\n",
        "    n_jobs=-1\n",
        "    )\n",
        "\n",
        "clf.fit(X_train, y_train);"
      ],
      "execution_count": null,
      "outputs": [
        {
          "output_type": "stream",
          "text": [
            "Fitting 3 folds for each of 16 candidates, totalling 48 fits\n"
          ],
          "name": "stdout"
        }
      ]
    },
    {
      "cell_type": "code",
      "metadata": {
        "colab": {
          "base_uri": "https://localhost:8080/"
        },
        "id": "qZxqdLkF9Cmf",
        "outputId": "44aa891e-1511-4158-ac2f-0c57ce04a114"
      },
      "source": [
        "print('최적 하이퍼파라미터: ', clf.best_params_)\n",
        "print('score: ', -clf.best_score_)"
      ],
      "execution_count": null,
      "outputs": [
        {
          "output_type": "stream",
          "text": [
            "최적 하이퍼파라미터:  {'classification__penalty': 'l2', 'classification__C': 0.01}\n",
            "score:  -0.7833333333333333\n"
          ],
          "name": "stdout"
        }
      ]
    },
    {
      "cell_type": "markdown",
      "metadata": {
        "id": "oy6UuCDNWQkz"
      },
      "source": [
        "###3.6 Final model"
      ]
    },
    {
      "cell_type": "code",
      "metadata": {
        "colab": {
          "base_uri": "https://localhost:8080/"
        },
        "id": "6b8-Z6Re9KCY",
        "outputId": "90dd1579-a860-4f8a-dab6-10b78ab0effc"
      },
      "source": [
        "model = Pipeline([\n",
        "        ('One-Hot',OneHotEncoder(use_cat_names=True)),\n",
        "        ('Scaler', MinMaxScaler()),\n",
        "        ('sampling', SMOTE()),\n",
        "        ('classification', LogisticRegression(penalty='l2',C=0.1))\n",
        "    ])\n",
        "model.fit(X_train,y_train)"
      ],
      "execution_count": null,
      "outputs": [
        {
          "output_type": "execute_result",
          "data": {
            "text/plain": [
              "Pipeline(steps=[('One-Hot',\n",
              "                 OneHotEncoder(cols=['gender', 'ever_married', 'work_type',\n",
              "                                     'Residence_type', 'smoking_status'],\n",
              "                               use_cat_names=True)),\n",
              "                ('Scaler', MinMaxScaler()), ('sampling', SMOTE()),\n",
              "                ('classification', LogisticRegression(C=0.1))])"
            ]
          },
          "metadata": {
            "tags": []
          },
          "execution_count": 97
        }
      ]
    },
    {
      "cell_type": "code",
      "metadata": {
        "colab": {
          "base_uri": "https://localhost:8080/",
          "height": 297
        },
        "id": "HEoUlJmg9WSP",
        "outputId": "d6ff8156-099e-4bb4-ebfd-cfd19397386d"
      },
      "source": [
        "y_predFinal = model.predict(X_val)\n",
        "\n",
        "fig, ax = plt.subplots()\n",
        "pcm = plot_confusion_matrix(model, X_val, y_val, cmap=plt.cm.Blues, ax=ax);\n",
        "plt.title(f'Confusion matrix, n = {len(y_val)}', fontsize=15)\n",
        "plt.show()"
      ],
      "execution_count": null,
      "outputs": [
        {
          "output_type": "display_data",
          "data": {
            "image/png": "[encoded data removed]",
            "text/plain": [
              "<Figure size 432x288 with 2 Axes>"
            ]
          },
          "metadata": {
            "tags": [],
            "needs_background": "light"
          }
        }
      ]
    },
    {
      "cell_type": "code",
      "metadata": {
        "colab": {
          "base_uri": "https://localhost:8080/"
        },
        "id": "iYPK2ye09tvU",
        "outputId": "6d354123-92a8-4cd0-88c8-3d929e96c857"
      },
      "source": [
        "print(classification_report(y_val, y_predFinal))\n",
        "score(y_val,y_predFinal)"
      ],
      "execution_count": null,
      "outputs": [
        {
          "output_type": "stream",
          "text": [
            "              precision    recall  f1-score   support\n",
            "\n",
            "           0       0.98      0.75      0.85       753\n",
            "           1       0.11      0.70      0.19        33\n",
            "\n",
            "    accuracy                           0.75       786\n",
            "   macro avg       0.55      0.72      0.52       786\n",
            "weighted avg       0.95      0.75      0.82       786\n",
            "\n",
            "정확도 : 0.75, 정밀도 : 0.11, 재현율 : 0.70\n",
            "f1-score : 0.19, auc : 0.72\n"
          ],
          "name": "stdout"
        }
      ]
    },
    {
      "cell_type": "markdown",
      "metadata": {
        "id": "zSwwmsrnWd2h"
      },
      "source": [
        "###3.7 Test set을  통한 일반화 검증"
      ]
    },
    {
      "cell_type": "code",
      "metadata": {
        "colab": {
          "base_uri": "https://localhost:8080/",
          "height": 297
        },
        "id": "f2dCGNUf93ya",
        "outputId": "ecd1441c-a4c1-4e36-dc08-721bd5eac8f7"
      },
      "source": [
        "y_predFinalTest = model.predict(X_test)\n",
        "fig, ax = plt.subplots()\n",
        "pcm = plot_confusion_matrix(model, X_test, y_test, cmap=plt.cm.Blues, ax=ax);\n",
        "plt.title(f'Confusion matrix, n = {len(y_test)}', fontsize=15)\n",
        "plt.show()"
      ],
      "execution_count": null,
      "outputs": [
        {
          "output_type": "display_data",
          "data": {
            "image/png": "[encoded data removed]",
            "text/plain": [
              "<Figure size 432x288 with 2 Axes>"
            ]
          },
          "metadata": {
            "tags": [],
            "needs_background": "light"
          }
        }
      ]
    },
    {
      "cell_type": "code",
      "metadata": {
        "colab": {
          "base_uri": "https://localhost:8080/"
        },
        "id": "PFcCIi1F-Ejv",
        "outputId": "9c64d044-39c3-4f04-cfc5-b38e5ea75dcf"
      },
      "source": [
        "print(classification_report(y_test, y_predFinalTest))\n",
        "score(y_test,y_predFinalTest)"
      ],
      "execution_count": null,
      "outputs": [
        {
          "output_type": "stream",
          "text": [
            "              precision    recall  f1-score   support\n",
            "\n",
            "           0       0.99      0.73      0.84       940\n",
            "           1       0.11      0.76      0.20        42\n",
            "\n",
            "    accuracy                           0.73       982\n",
            "   macro avg       0.55      0.75      0.52       982\n",
            "weighted avg       0.95      0.73      0.81       982\n",
            "\n",
            "정확도 : 0.73, 정밀도 : 0.11, 재현율 : 0.76\n",
            "f1-score : 0.20, auc : 0.75\n"
          ],
          "name": "stdout"
        }
      ]
    },
    {
      "cell_type": "markdown",
      "metadata": {
        "id": "AmL_r_MKp2ow"
      },
      "source": [
        "베이스라인 모델에 비해 훨씬 recall값이 상승한 것을 알 수 있다.\n",
        "\n",
        "모델 성능 개선을 위해 oversampling을 사용하여 학습데이터량을 증가시켰다. \n",
        "\n",
        "베이스라인조차 0값으로 95퍼센트 쏠려있는 imbalance 데이터다 보니 monor값에 대한 oversampling이 필요하였습니다.\n",
        "\n",
        "다양한 모델을 시도해본 결과, Tree계열 모델보다 로지스틱회귀모델이 성능이 좋았고, 하이퍼파라미터 튜닝을 통해 recall값이 상승한 것을 볼 수 있습니다."
      ]
    },
    {
      "cell_type": "markdown",
      "metadata": {
        "id": "gkhRLGLj_o9x"
      },
      "source": [
        "#4. 데이터분석 결과해석"
      ]
    },
    {
      "cell_type": "markdown",
      "metadata": {
        "id": "lwCHaus__zcD"
      },
      "source": [
        "목표\n",
        "\n",
        "\n",
        "1.   어떤 특성이 가장 큰 영향을 미치는가\n",
        "2.   나이별 발현율은 어떤가\n",
        "3.   심장병과 고혈압은 뇌졸증의 원인에 영향을 미치는가\n",
        "4.   흡연의 여부는 뇌졸증의 원인에 영향을 미치는가\n",
        "\n",
        "\n",
        "\n"
      ]
    },
    {
      "cell_type": "markdown",
      "metadata": {
        "id": "Tm1gFe98AZAr"
      },
      "source": [
        "###4.1 가장 큰 영향을 미치는 특성"
      ]
    },
    {
      "cell_type": "markdown",
      "metadata": {
        "id": "6l8qkwF1Jv7E"
      },
      "source": [
        "####4.1.1 Feature Importances(Mean decrease impurity, MDI)"
      ]
    },
    {
      "cell_type": "code",
      "metadata": {
        "colab": {
          "base_uri": "https://localhost:8080/",
          "height": 662
        },
        "id": "2uHRxrW4Jug2",
        "outputId": "90a99ad7-b551-4a40-b398-c57db5005d7e"
      },
      "source": [
        "#회귀계수를 통한 특성 중요도\n",
        "logi = model.named_steps['classification']\n",
        "onehot= (model.named_steps['One-Hot'].fit_transform(X_train)).columns\n",
        "\n",
        "importance= pd.DataFrame(logi.coef_, columns=list(onehot.values));\n",
        "importance.T.sort_values(by=0,ascending=False)\n"
      ],
      "execution_count": null,
      "outputs": [
        {
          "output_type": "execute_result",
          "data": {
            "text/html": [
              "<div>\n",
              "<style scoped>\n",
              "    .dataframe tbody tr th:only-of-type {\n",
              "        vertical-align: middle;\n",
              "    }\n",
              "\n",
              "    .dataframe tbody tr th {\n",
              "        vertical-align: top;\n",
              "    }\n",
              "\n",
              "    .dataframe thead th {\n",
              "        text-align: right;\n",
              "    }\n",
              "</style>\n",
              "<table border=\"1\" class=\"dataframe\">\n",
              "  <thead>\n",
              "    <tr style=\"text-align: right;\">\n",
              "      <th></th>\n",
              "      <th>0</th>\n",
              "    </tr>\n",
              "  </thead>\n",
              "  <tbody>\n",
              "    <tr>\n",
              "      <th>age</th>\n",
              "      <td>5.479006</td>\n",
              "    </tr>\n",
              "    <tr>\n",
              "      <th>hypertension</th>\n",
              "      <td>1.008604</td>\n",
              "    </tr>\n",
              "    <tr>\n",
              "      <th>avg_glucose_level</th>\n",
              "      <td>0.894457</td>\n",
              "    </tr>\n",
              "    <tr>\n",
              "      <th>heart_disease</th>\n",
              "      <td>0.705394</td>\n",
              "    </tr>\n",
              "    <tr>\n",
              "      <th>work_type_Private</th>\n",
              "      <td>0.464076</td>\n",
              "    </tr>\n",
              "    <tr>\n",
              "      <th>smoking_status_smokes</th>\n",
              "      <td>0.398741</td>\n",
              "    </tr>\n",
              "    <tr>\n",
              "      <th>smoking_status_never smoked</th>\n",
              "      <td>0.104769</td>\n",
              "    </tr>\n",
              "    <tr>\n",
              "      <th>gender_Female</th>\n",
              "      <td>0.085832</td>\n",
              "    </tr>\n",
              "    <tr>\n",
              "      <th>ever_married_Yes</th>\n",
              "      <td>0.063635</td>\n",
              "    </tr>\n",
              "    <tr>\n",
              "      <th>work_type_Self-employed</th>\n",
              "      <td>0.059652</td>\n",
              "    </tr>\n",
              "    <tr>\n",
              "      <th>smoking_status_formerly smoked</th>\n",
              "      <td>0.033767</td>\n",
              "    </tr>\n",
              "    <tr>\n",
              "      <th>Residence_type_Rural</th>\n",
              "      <td>0.019241</td>\n",
              "    </tr>\n",
              "    <tr>\n",
              "      <th>Residence_type_Urban</th>\n",
              "      <td>-0.019498</td>\n",
              "    </tr>\n",
              "    <tr>\n",
              "      <th>bmi</th>\n",
              "      <td>-0.029745</td>\n",
              "    </tr>\n",
              "    <tr>\n",
              "      <th>work_type_Never_worked</th>\n",
              "      <td>-0.037692</td>\n",
              "    </tr>\n",
              "    <tr>\n",
              "      <th>ever_married_No</th>\n",
              "      <td>-0.063892</td>\n",
              "    </tr>\n",
              "    <tr>\n",
              "      <th>gender_Male</th>\n",
              "      <td>-0.086089</td>\n",
              "    </tr>\n",
              "    <tr>\n",
              "      <th>work_type_Govt_job</th>\n",
              "      <td>-0.163609</td>\n",
              "    </tr>\n",
              "    <tr>\n",
              "      <th>work_type_children</th>\n",
              "      <td>-0.322685</td>\n",
              "    </tr>\n",
              "    <tr>\n",
              "      <th>smoking_status_Unknown</th>\n",
              "      <td>-0.537535</td>\n",
              "    </tr>\n",
              "  </tbody>\n",
              "</table>\n",
              "</div>"
            ],
            "text/plain": [
              "                                       0\n",
              "age                             5.479006\n",
              "hypertension                    1.008604\n",
              "avg_glucose_level               0.894457\n",
              "heart_disease                   0.705394\n",
              "work_type_Private               0.464076\n",
              "smoking_status_smokes           0.398741\n",
              "smoking_status_never smoked     0.104769\n",
              "gender_Female                   0.085832\n",
              "ever_married_Yes                0.063635\n",
              "work_type_Self-employed         0.059652\n",
              "smoking_status_formerly smoked  0.033767\n",
              "Residence_type_Rural            0.019241\n",
              "Residence_type_Urban           -0.019498\n",
              "bmi                            -0.029745\n",
              "work_type_Never_worked         -0.037692\n",
              "ever_married_No                -0.063892\n",
              "gender_Male                    -0.086089\n",
              "work_type_Govt_job             -0.163609\n",
              "work_type_children             -0.322685\n",
              "smoking_status_Unknown         -0.537535"
            ]
          },
          "metadata": {
            "tags": []
          },
          "execution_count": 98
        }
      ]
    },
    {
      "cell_type": "markdown",
      "metadata": {
        "id": "uTbyQQOJP-O0"
      },
      "source": [
        "####4.1.2 PermutationImportance"
      ]
    },
    {
      "cell_type": "code",
      "metadata": {
        "id": "VxR-mp7WP9Qu"
      },
      "source": [
        "# permuter 정의\n",
        "permuter = PermutationImportance(\n",
        "    model.named_steps['classification'], # model\n",
        "    scoring='recall', # metric\n",
        "    n_iter=5, # 다른 random seed를 사용하여 5번 반복\n",
        "    random_state=2\n",
        ")\n",
        "\n",
        "# permuter 계산은 preprocessing 된 X_val을 사용합니다.\n",
        "X_val_transformed=model.named_steps['One-Hot'].transform(X_val)\n",
        "X_val_transformed=model.named_steps['Scaler'].transform(X_val_transformed)\n",
        "\n",
        "      \n",
        "\n",
        "# 실제로 fit 의미보다는 스코어를 다시 계산하는 작업입니다\n",
        "permuter.fit(X_val_transformed2, y_val);"
      ],
      "execution_count": null,
      "outputs": []
    },
    {
      "cell_type": "code",
      "metadata": {
        "colab": {
          "base_uri": "https://localhost:8080/"
        },
        "id": "PVAVCqg0Ybba",
        "outputId": "d8d75133-09ff-49ae-95d8-ea107de8d6eb"
      },
      "source": [
        "feature_names = list(onehot.values)\n",
        "pd.Series(permuter.feature_importances_, feature_names).sort_values(ascending=False)"
      ],
      "execution_count": null,
      "outputs": [
        {
          "output_type": "execute_result",
          "data": {
            "text/plain": [
              "age                               3.636364e-01\n",
              "hypertension                      1.030303e-01\n",
              "ever_married_Yes                  1.818182e-02\n",
              "ever_married_No                   1.212121e-02\n",
              "avg_glucose_level                 6.060606e-03\n",
              "work_type_children                6.060606e-03\n",
              "smoking_status_Unknown            4.440892e-17\n",
              "bmi                               0.000000e+00\n",
              "Residence_type_Rural              0.000000e+00\n",
              "Residence_type_Urban              0.000000e+00\n",
              "work_type_Never_worked            0.000000e+00\n",
              "work_type_Govt_job                0.000000e+00\n",
              "smoking_status_formerly smoked    0.000000e+00\n",
              "heart_disease                     0.000000e+00\n",
              "smoking_status_never smoked      -6.060606e-03\n",
              "work_type_Self-employed          -6.060606e-03\n",
              "smoking_status_smokes            -1.818182e-02\n",
              "work_type_Private                -2.424242e-02\n",
              "gender_Female                    -3.030303e-02\n",
              "gender_Male                      -3.030303e-02\n",
              "dtype: float64"
            ]
          },
          "metadata": {
            "tags": []
          },
          "execution_count": 35
        }
      ]
    },
    {
      "cell_type": "code",
      "metadata": {
        "colab": {
          "base_uri": "https://localhost:8080/",
          "height": 381
        },
        "id": "N0O0uOFYZHN1",
        "outputId": "9197ed18-3e4e-4da9-82df-2fccf5ce4db7"
      },
      "source": [
        "# 특성별 score 확인\n",
        "eli5.show_weights(\n",
        "    permuter, \n",
        "    top=None, # top n 지정 가능, None 일 경우 모든 특성 \n",
        "    feature_names=feature_names # list 형식으로 넣어야 합니다\n",
        ")"
      ],
      "execution_count": null,
      "outputs": [
        {
          "output_type": "execute_result",
          "data": {
            "text/html": [
              "\n",
              "    <style>\n",
              "    table.eli5-weights tr:hover {\n",
              "        filter: brightness(85%);\n",
              "    }\n",
              "</style>\n",
              "\n",
              "\n",
              "\n",
              "    \n",
              "\n",
              "    \n",
              "\n",
              "    \n",
              "\n",
              "    \n",
              "\n",
              "    \n",
              "\n",
              "    \n",
              "\n",
              "\n",
              "    \n",
              "\n",
              "    \n",
              "\n",
              "    \n",
              "\n",
              "    \n",
              "\n",
              "    \n",
              "\n",
              "    \n",
              "\n",
              "\n",
              "    \n",
              "\n",
              "    \n",
              "\n",
              "    \n",
              "\n",
              "    \n",
              "\n",
              "    \n",
              "        <table class=\"eli5-weights eli5-feature-importances\" style=\"border-collapse: collapse; border: none; margin-top: 0em; table-layout: auto;\">\n",
              "    <thead>\n",
              "    <tr style=\"border: none;\">\n",
              "        <th style=\"padding: 0 1em 0 0.5em; text-align: right; border: none;\">Weight</th>\n",
              "        <th style=\"padding: 0 0.5em 0 0.5em; text-align: left; border: none;\">Feature</th>\n",
              "    </tr>\n",
              "    </thead>\n",
              "    <tbody>\n",
              "    \n",
              "        <tr style=\"background-color: hsl(120, 100.00%, 80.00%); border: none;\">\n",
              "            <td style=\"padding: 0 1em 0 0.5em; text-align: right; border: none;\">\n",
              "                0.3636\n",
              "                \n",
              "                    &plusmn; 0.1014\n",
              "                \n",
              "            </td>\n",
              "            <td style=\"padding: 0 0.5em 0 0.5em; text-align: left; border: none;\">\n",
              "                age\n",
              "            </td>\n",
              "        </tr>\n",
              "    \n",
              "        <tr style=\"background-color: hsl(120, 100.00%, 91.73%); border: none;\">\n",
              "            <td style=\"padding: 0 1em 0 0.5em; text-align: right; border: none;\">\n",
              "                0.1030\n",
              "                \n",
              "                    &plusmn; 0.0485\n",
              "                \n",
              "            </td>\n",
              "            <td style=\"padding: 0 0.5em 0 0.5em; text-align: left; border: none;\">\n",
              "                hypertension\n",
              "            </td>\n",
              "        </tr>\n",
              "    \n",
              "        <tr style=\"background-color: hsl(120, 100.00%, 97.54%); border: none;\">\n",
              "            <td style=\"padding: 0 1em 0 0.5em; text-align: right; border: none;\">\n",
              "                0.0182\n",
              "                \n",
              "                    &plusmn; 0.0297\n",
              "                \n",
              "            </td>\n",
              "            <td style=\"padding: 0 0.5em 0 0.5em; text-align: left; border: none;\">\n",
              "                ever_married_Yes\n",
              "            </td>\n",
              "        </tr>\n",
              "    \n",
              "        <tr style=\"background-color: hsl(120, 100.00%, 98.15%); border: none;\">\n",
              "            <td style=\"padding: 0 1em 0 0.5em; text-align: right; border: none;\">\n",
              "                0.0121\n",
              "                \n",
              "                    &plusmn; 0.0297\n",
              "                \n",
              "            </td>\n",
              "            <td style=\"padding: 0 0.5em 0 0.5em; text-align: left; border: none;\">\n",
              "                ever_married_No\n",
              "            </td>\n",
              "        </tr>\n",
              "    \n",
              "        <tr style=\"background-color: hsl(120, 100.00%, 98.86%); border: none;\">\n",
              "            <td style=\"padding: 0 1em 0 0.5em; text-align: right; border: none;\">\n",
              "                0.0061\n",
              "                \n",
              "                    &plusmn; 0.0242\n",
              "                \n",
              "            </td>\n",
              "            <td style=\"padding: 0 0.5em 0 0.5em; text-align: left; border: none;\">\n",
              "                avg_glucose_level\n",
              "            </td>\n",
              "        </tr>\n",
              "    \n",
              "        <tr style=\"background-color: hsl(120, 100.00%, 98.86%); border: none;\">\n",
              "            <td style=\"padding: 0 1em 0 0.5em; text-align: right; border: none;\">\n",
              "                0.0061\n",
              "                \n",
              "                    &plusmn; 0.0242\n",
              "                \n",
              "            </td>\n",
              "            <td style=\"padding: 0 0.5em 0 0.5em; text-align: left; border: none;\">\n",
              "                work_type_children\n",
              "            </td>\n",
              "        </tr>\n",
              "    \n",
              "        <tr style=\"background-color: hsl(120, 100.00%, 100.00%); border: none;\">\n",
              "            <td style=\"padding: 0 1em 0 0.5em; text-align: right; border: none;\">\n",
              "                0.0000\n",
              "                \n",
              "                    &plusmn; 0.0542\n",
              "                \n",
              "            </td>\n",
              "            <td style=\"padding: 0 0.5em 0 0.5em; text-align: left; border: none;\">\n",
              "                smoking_status_Unknown\n",
              "            </td>\n",
              "        </tr>\n",
              "    \n",
              "        <tr style=\"background-color: hsl(0, 100.00%, 100.00%); border: none;\">\n",
              "            <td style=\"padding: 0 1em 0 0.5em; text-align: right; border: none;\">\n",
              "                0\n",
              "                \n",
              "                    &plusmn; 0.0000\n",
              "                \n",
              "            </td>\n",
              "            <td style=\"padding: 0 0.5em 0 0.5em; text-align: left; border: none;\">\n",
              "                bmi\n",
              "            </td>\n",
              "        </tr>\n",
              "    \n",
              "        <tr style=\"background-color: hsl(0, 100.00%, 100.00%); border: none;\">\n",
              "            <td style=\"padding: 0 1em 0 0.5em; text-align: right; border: none;\">\n",
              "                0\n",
              "                \n",
              "                    &plusmn; 0.0000\n",
              "                \n",
              "            </td>\n",
              "            <td style=\"padding: 0 0.5em 0 0.5em; text-align: left; border: none;\">\n",
              "                Residence_type_Rural\n",
              "            </td>\n",
              "        </tr>\n",
              "    \n",
              "        <tr style=\"background-color: hsl(0, 100.00%, 100.00%); border: none;\">\n",
              "            <td style=\"padding: 0 1em 0 0.5em; text-align: right; border: none;\">\n",
              "                0\n",
              "                \n",
              "                    &plusmn; 0.0000\n",
              "                \n",
              "            </td>\n",
              "            <td style=\"padding: 0 0.5em 0 0.5em; text-align: left; border: none;\">\n",
              "                Residence_type_Urban\n",
              "            </td>\n",
              "        </tr>\n",
              "    \n",
              "        <tr style=\"background-color: hsl(0, 100.00%, 100.00%); border: none;\">\n",
              "            <td style=\"padding: 0 1em 0 0.5em; text-align: right; border: none;\">\n",
              "                0\n",
              "                \n",
              "                    &plusmn; 0.0000\n",
              "                \n",
              "            </td>\n",
              "            <td style=\"padding: 0 0.5em 0 0.5em; text-align: left; border: none;\">\n",
              "                work_type_Never_worked\n",
              "            </td>\n",
              "        </tr>\n",
              "    \n",
              "        <tr style=\"background-color: hsl(0, 100.00%, 100.00%); border: none;\">\n",
              "            <td style=\"padding: 0 1em 0 0.5em; text-align: right; border: none;\">\n",
              "                0\n",
              "                \n",
              "                    &plusmn; 0.0000\n",
              "                \n",
              "            </td>\n",
              "            <td style=\"padding: 0 0.5em 0 0.5em; text-align: left; border: none;\">\n",
              "                work_type_Govt_job\n",
              "            </td>\n",
              "        </tr>\n",
              "    \n",
              "        <tr style=\"background-color: hsl(0, 100.00%, 100.00%); border: none;\">\n",
              "            <td style=\"padding: 0 1em 0 0.5em; text-align: right; border: none;\">\n",
              "                0\n",
              "                \n",
              "                    &plusmn; 0.0000\n",
              "                \n",
              "            </td>\n",
              "            <td style=\"padding: 0 0.5em 0 0.5em; text-align: left; border: none;\">\n",
              "                smoking_status_formerly smoked\n",
              "            </td>\n",
              "        </tr>\n",
              "    \n",
              "        <tr style=\"background-color: hsl(0, 100.00%, 100.00%); border: none;\">\n",
              "            <td style=\"padding: 0 1em 0 0.5em; text-align: right; border: none;\">\n",
              "                0\n",
              "                \n",
              "                    &plusmn; 0.0000\n",
              "                \n",
              "            </td>\n",
              "            <td style=\"padding: 0 0.5em 0 0.5em; text-align: left; border: none;\">\n",
              "                heart_disease\n",
              "            </td>\n",
              "        </tr>\n",
              "    \n",
              "        <tr style=\"background-color: hsl(0, 100.00%, 98.86%); border: none;\">\n",
              "            <td style=\"padding: 0 1em 0 0.5em; text-align: right; border: none;\">\n",
              "                -0.0061\n",
              "                \n",
              "                    &plusmn; 0.0707\n",
              "                \n",
              "            </td>\n",
              "            <td style=\"padding: 0 0.5em 0 0.5em; text-align: left; border: none;\">\n",
              "                smoking_status_never smoked\n",
              "            </td>\n",
              "        </tr>\n",
              "    \n",
              "        <tr style=\"background-color: hsl(0, 100.00%, 98.86%); border: none;\">\n",
              "            <td style=\"padding: 0 1em 0 0.5em; text-align: right; border: none;\">\n",
              "                -0.0061\n",
              "                \n",
              "                    &plusmn; 0.0242\n",
              "                \n",
              "            </td>\n",
              "            <td style=\"padding: 0 0.5em 0 0.5em; text-align: left; border: none;\">\n",
              "                work_type_Self-employed\n",
              "            </td>\n",
              "        </tr>\n",
              "    \n",
              "        <tr style=\"background-color: hsl(0, 100.00%, 97.54%); border: none;\">\n",
              "            <td style=\"padding: 0 1em 0 0.5em; text-align: right; border: none;\">\n",
              "                -0.0182\n",
              "                \n",
              "                    &plusmn; 0.0485\n",
              "                \n",
              "            </td>\n",
              "            <td style=\"padding: 0 0.5em 0 0.5em; text-align: left; border: none;\">\n",
              "                smoking_status_smokes\n",
              "            </td>\n",
              "        </tr>\n",
              "    \n",
              "        <tr style=\"background-color: hsl(0, 100.00%, 97.00%); border: none;\">\n",
              "            <td style=\"padding: 0 1em 0 0.5em; text-align: right; border: none;\">\n",
              "                -0.0242\n",
              "                \n",
              "                    &plusmn; 0.0454\n",
              "                \n",
              "            </td>\n",
              "            <td style=\"padding: 0 0.5em 0 0.5em; text-align: left; border: none;\">\n",
              "                work_type_Private\n",
              "            </td>\n",
              "        </tr>\n",
              "    \n",
              "        <tr style=\"background-color: hsl(0, 100.00%, 96.49%); border: none;\">\n",
              "            <td style=\"padding: 0 1em 0 0.5em; text-align: right; border: none;\">\n",
              "                -0.0303\n",
              "                \n",
              "                    &plusmn; 0.0000\n",
              "                \n",
              "            </td>\n",
              "            <td style=\"padding: 0 0.5em 0 0.5em; text-align: left; border: none;\">\n",
              "                gender_Female\n",
              "            </td>\n",
              "        </tr>\n",
              "    \n",
              "        <tr style=\"background-color: hsl(0, 100.00%, 96.49%); border: none;\">\n",
              "            <td style=\"padding: 0 1em 0 0.5em; text-align: right; border: none;\">\n",
              "                -0.0303\n",
              "                \n",
              "                    &plusmn; 0.0542\n",
              "                \n",
              "            </td>\n",
              "            <td style=\"padding: 0 0.5em 0 0.5em; text-align: left; border: none;\">\n",
              "                gender_Male\n",
              "            </td>\n",
              "        </tr>\n",
              "    \n",
              "    \n",
              "    </tbody>\n",
              "</table>\n",
              "    \n",
              "\n",
              "    \n",
              "\n",
              "\n",
              "    \n",
              "\n",
              "    \n",
              "\n",
              "    \n",
              "\n",
              "    \n",
              "\n",
              "    \n",
              "\n",
              "    \n",
              "\n",
              "\n",
              "\n"
            ],
            "text/plain": [
              "<IPython.core.display.HTML object>"
            ]
          },
          "metadata": {
            "tags": []
          },
          "execution_count": 36
        }
      ]
    },
    {
      "cell_type": "code",
      "metadata": {
        "colab": {
          "base_uri": "https://localhost:8080/"
        },
        "id": "JJs1mxQbAkMl",
        "outputId": "505282ea-7cdb-422e-bafe-d312f0f01a99"
      },
      "source": [
        "#원본 데이터 상관관계분석 -> 숫자형만 보임\n",
        "stroke_data.corr()['stroke']"
      ],
      "execution_count": null,
      "outputs": [
        {
          "output_type": "execute_result",
          "data": {
            "text/plain": [
              "age                  0.232313\n",
              "hypertension         0.142503\n",
              "heart_disease        0.137929\n",
              "avg_glucose_level    0.138984\n",
              "bmi                  0.042341\n",
              "stroke               1.000000\n",
              "Name: stroke, dtype: float64"
            ]
          },
          "metadata": {
            "tags": []
          },
          "execution_count": 179
        }
      ]
    },
    {
      "cell_type": "markdown",
      "metadata": {
        "id": "O33-r9vCZhVb"
      },
      "source": [
        "세가지 방법을 통해 공통적으로 눈에 띄는 특성은 <strong>나이와 고혈압, 혈당수치, 심장병 여부</strong>를 볼수 있겠습니다. "
      ]
    },
    {
      "cell_type": "markdown",
      "metadata": {
        "id": "Pc6dP5jiaExI"
      },
      "source": [
        "###4.2 나이는 뇌졸증발생의 어떤 영향을 미치는가"
      ]
    },
    {
      "cell_type": "code",
      "metadata": {
        "id": "o6VaW9qacH5Q"
      },
      "source": [
        "X_val_encoded=pd.DataFrame(X_val_transformed,columns=list(onehot))"
      ],
      "execution_count": null,
      "outputs": []
    },
    {
      "cell_type": "code",
      "metadata": {
        "colab": {
          "base_uri": "https://localhost:8080/",
          "height": 578
        },
        "id": "XMtSgHRxbLpJ",
        "outputId": "129b8c37-f67e-407c-dfa5-55a4fe26a77a"
      },
      "source": [
        "from pdpbox.pdp import pdp_isolate, pdp_plot\n",
        "feature = 'age'\n",
        "isolated = pdp_isolate(\n",
        "    model=logi, \n",
        "    dataset=X_val_encoded,\n",
        "    model_features=X_val_encoded.columns, \n",
        "    feature=feature,\n",
        "    grid_type='percentile', # default='percentile', or 'equal'\n",
        "    num_grid_points=10 # default=10\n",
        ")\n",
        "pdp_plot(isolated, feature_name=feature);"
      ],
      "execution_count": null,
      "outputs": [
        {
          "output_type": "display_data",
          "data": {
            "image/png": "[encoded data removed]",
            "text/plain": [
              "<Figure size 1080x684 with 2 Axes>"
            ]
          },
          "metadata": {
            "tags": [],
            "needs_background": "light"
          }
        }
      ]
    },
    {
      "cell_type": "markdown",
      "metadata": {
        "id": "38ykCtdieHqd"
      },
      "source": [
        "###4.3 심장병과 고혈압은 뇌졸증의 원인에 영향을 미치는가"
      ]
    },
    {
      "cell_type": "code",
      "metadata": {
        "colab": {
          "base_uri": "https://localhost:8080/",
          "height": 579
        },
        "id": "HEV-H9SFeB_X",
        "outputId": "c79ef738-a3c5-4712-81ac-2ee567c3264b"
      },
      "source": [
        "feature = 'hypertension'\n",
        "isolated = pdp_isolate(\n",
        "    model=logi, \n",
        "    dataset=X_val_encoded,\n",
        "    model_features=X_val_encoded.columns, \n",
        "    feature=feature,\n",
        "    grid_type='percentile', # default='percentile', or 'equal'\n",
        "    num_grid_points=10 # default=10\n",
        ")\n",
        "pdp_plot(isolated, feature_name=feature);"
      ],
      "execution_count": null,
      "outputs": [
        {
          "output_type": "display_data",
          "data": {
            "image/png": "[encoded data removed]",
            "text/plain": [
              "<Figure size 1080x684 with 2 Axes>"
            ]
          },
          "metadata": {
            "tags": [],
            "needs_background": "light"
          }
        }
      ]
    },
    {
      "cell_type": "code",
      "metadata": {
        "colab": {
          "base_uri": "https://localhost:8080/",
          "height": 580
        },
        "id": "dxInmOgdf3Nz",
        "outputId": "718d9be7-7370-4cf0-e9bc-139266ceb63a"
      },
      "source": [
        "feature = 'heart_disease'\n",
        "isolated = pdp_isolate(\n",
        "    model=logi, \n",
        "    dataset=X_val_encoded,\n",
        "    model_features=X_val_encoded.columns, \n",
        "    feature=feature,\n",
        "    grid_type='percentile', # default='percentile', or 'equal'\n",
        "    num_grid_points=10 # default=10\n",
        ")\n",
        "pdp_plot(isolated, feature_name=feature);"
      ],
      "execution_count": null,
      "outputs": [
        {
          "output_type": "display_data",
          "data": {
            "image/png": "[encoded data removed]",
            "text/plain": [
              "<Figure size 1080x684 with 2 Axes>"
            ]
          },
          "metadata": {
            "tags": [],
            "needs_background": "light"
          }
        }
      ]
    },
    {
      "cell_type": "markdown",
      "metadata": {
        "id": "wjOeKmYWgENM"
      },
      "source": [
        "###4.4 흡연의 여부는 뇌졸증의 원인에 영향을 미치는가"
      ]
    },
    {
      "cell_type": "code",
      "metadata": {
        "colab": {
          "base_uri": "https://localhost:8080/",
          "height": 580
        },
        "id": "lM2L3atxgIUv",
        "outputId": "230053b9-0fdd-4924-fd18-10f8652d43bf"
      },
      "source": [
        "feature = 'smoking_status_smokes'\n",
        "isolated = pdp_isolate(\n",
        "    model=logi, \n",
        "    dataset=X_val_encoded,\n",
        "    model_features=X_val_encoded.columns, \n",
        "    feature=feature,\n",
        "    grid_type='percentile', # default='percentile', or 'equal'\n",
        "    num_grid_points=10 # default=10\n",
        ")\n",
        "pdp_plot(isolated, feature_name=feature);"
      ],
      "execution_count": null,
      "outputs": [
        {
          "output_type": "display_data",
          "data": {
            "image/png": "[encoded data removed]",
            "text/plain": [
              "<Figure size 1080x684 with 2 Axes>"
            ]
          },
          "metadata": {
            "tags": [],
            "needs_background": "light"
          }
        }
      ]
    },
    {
      "cell_type": "code",
      "metadata": {
        "colab": {
          "base_uri": "https://localhost:8080/",
          "height": 580
        },
        "id": "FblgPD6lgVRD",
        "outputId": "e4414b51-a363-405f-ccd6-11cb4585c646"
      },
      "source": [
        "feature = 'smoking_status_never smoked'\n",
        "isolated = pdp_isolate(\n",
        "    model=logi, \n",
        "    dataset=X_val_encoded,\n",
        "    model_features=X_val_encoded.columns, \n",
        "    feature=feature,\n",
        "    grid_type='percentile', # default='percentile', or 'equal'\n",
        "    num_grid_points=10 # default=10\n",
        ")\n",
        "pdp_plot(isolated, feature_name=feature);"
      ],
      "execution_count": null,
      "outputs": [
        {
          "output_type": "display_data",
          "data": {
            "image/png": "[encoded data removed]",
            "text/plain": [
              "<Figure size 1080x684 with 2 Axes>"
            ]
          },
          "metadata": {
            "tags": [],
            "needs_background": "light"
          }
        }
      ]
    }
  ]
}